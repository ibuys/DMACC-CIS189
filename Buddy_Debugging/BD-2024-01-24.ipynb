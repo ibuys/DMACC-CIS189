{
 "cells": [
  {
   "cell_type": "markdown",
   "metadata": {},
   "source": [
    "### Buddy Debugging - 2024-01-24\n",
    "---"
   ]
  },
  {
   "cell_type": "markdown",
   "metadata": {},
   "source": [
    "#### 1."
   ]
  },
  {
   "cell_type": "code",
   "execution_count": null,
   "metadata": {},
   "outputs": [],
   "source": [
    "\n",
    "a = \"seven\"\n",
    "b = 4\n",
    "total = a + b\n",
    "\n",
    "print(f\"total = {total}\")\n",
    "\n"
   ]
  },
  {
   "cell_type": "markdown",
   "metadata": {},
   "source": [
    "#### 2."
   ]
  },
  {
   "cell_type": "code",
   "execution_count": null,
   "metadata": {},
   "outputs": [],
   "source": [
    "\n",
    "phrase = \"Winter time is coming, the windows are filled with frost...'\n",
    "\n",
    "print(f\"There are {len(phrase)} characters in phrase.\")\n"
   ]
  },
  {
   "cell_type": "markdown",
   "metadata": {},
   "source": [
    "#### 3."
   ]
  },
  {
   "cell_type": "code",
   "execution_count": null,
   "metadata": {},
   "outputs": [],
   "source": [
    "\n",
    "import math\n",
    "\n",
    "a = 3\n",
    "b = 4\n",
    "c = sqrt(a**2 + b**2)\n",
    "\n",
    "print(f\"c = {c}\")\n"
   ]
  },
  {
   "cell_type": "markdown",
   "metadata": {},
   "source": [
    "#### 4. "
   ]
  },
  {
   "cell_type": "code",
   "execution_count": null,
   "metadata": {},
   "outputs": [],
   "source": [
    "\n",
    "a = 20\n",
    "b = 30\n",
    "total = sum(a, b)\n",
    "\n",
    "print(f\"a + b = {total}.\")\n"
   ]
  },
  {
   "cell_type": "markdown",
   "metadata": {},
   "source": [
    "#### 5."
   ]
  },
  {
   "cell_type": "code",
   "execution_count": null,
   "metadata": {},
   "outputs": [],
   "source": [
    "\n",
    "Determine the area of a circle having radius r.\n",
    "\n",
    "r = 12\n",
    "area = math.pi * r**2\n",
    "\n",
    "print(f\"Area of a circle with radius {r} = {area}.\")\n"
   ]
  },
  {
   "cell_type": "markdown",
   "metadata": {},
   "source": [
    "#### 6."
   ]
  },
  {
   "cell_type": "code",
   "execution_count": 21,
   "metadata": {},
   "outputs": [
    {
     "name": "stdout",
     "output_type": "stream",
     "text": [
      "a and b both True? False.\n"
     ]
    }
   ],
   "source": [
    "\n",
    "# Test if a and b are both true.\n",
    "a = \"true\"\n",
    "b = True\n",
    "test = a == True and b == True\n",
    "\n",
    "print(f\"a and b both True? {test}.\")\n"
   ]
  },
  {
   "cell_type": "markdown",
   "metadata": {},
   "source": [
    "#### 7."
   ]
  },
  {
   "cell_type": "code",
   "execution_count": null,
   "metadata": {},
   "outputs": [],
   "source": [
    "\n",
    "# Check if sum of a and b equals 100.\n",
    "a = 17\n",
    "b = 82\n",
    "total = a + b.\n",
    "\n",
    "if total = 100:\n",
    "    print(\"total = 100.\")\n"
   ]
  },
  {
   "cell_type": "markdown",
   "metadata": {},
   "source": [
    "\n",
    "#### 8."
   ]
  },
  {
   "cell_type": "code",
   "execution_count": 26,
   "metadata": {},
   "outputs": [],
   "source": [
    "\n",
    "# Check if a + b + c is evenly divisible by 2.\n",
    "a = 11\n",
    "b = 11\n",
    "c = 7\n",
    "total = a + b + c\n",
    "\n",
    "if total % 2 === 0:\n",
    "print(f\"{total} is even.\")\n"
   ]
  },
  {
   "cell_type": "markdown",
   "metadata": {},
   "source": [
    "#### 9."
   ]
  },
  {
   "cell_type": "code",
   "execution_count": null,
   "metadata": {},
   "outputs": [],
   "source": [
    "\n",
    "\n",
    "5_length_list = [1, 2, 3, 4, 5]\n",
    "\n",
    "print(f\"Length of 5_length_list: {len(5_length_list)}.\")\n"
   ]
  },
  {
   "cell_type": "markdown",
   "metadata": {},
   "source": [
    "#### 10."
   ]
  },
  {
   "cell_type": "code",
   "execution_count": null,
   "metadata": {},
   "outputs": [],
   "source": [
    "\n",
    "\n",
    "week_of = \"2024-01-22\"\n",
    "\n",
    "if week of == 2024-01-22:\n",
    "\n",
    "    print(\"it is the week of 01-22.\")\n",
    "\n",
    "\n"
   ]
  }
 ],
 "metadata": {
  "kernelspec": {
   "display_name": "Python 3",
   "language": "python",
   "name": "python3"
  },
  "language_info": {
   "codemirror_mode": {
    "name": "ipython",
    "version": 3
   },
   "file_extension": ".py",
   "mimetype": "text/x-python",
   "name": "python",
   "nbconvert_exporter": "python",
   "pygments_lexer": "ipython3",
   "version": "3.12.0"
  }
 },
 "nbformat": 4,
 "nbformat_minor": 2
}
