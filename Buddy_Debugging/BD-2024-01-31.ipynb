{
 "cells": [
  {
   "cell_type": "markdown",
   "metadata": {},
   "source": [
    "### Buddy Debugging - 2024-01-31\n",
    "---"
   ]
  },
  {
   "cell_type": "markdown",
   "metadata": {},
   "source": [
    "#### 1."
   ]
  },
  {
   "cell_type": "code",
   "execution_count": null,
   "metadata": {},
   "outputs": [],
   "source": [
    "\n",
    "# Compute average of a and b separately and combined. \n",
    "\n",
    "import statistics\n",
    "\n",
    "a = [5, 8, 9, 12, 7]\n",
    "b = [3, '9', 6]\n",
    "c = a + b\n",
    "\n",
    "mean_a = mean(a)\n",
    "mean_b = mean(b)\n",
    "mean_c = mean(c)\n",
    "\n",
    "print(f\"a: {a}\")\n",
    "print(f\"b: {b}\")\n",
    "print(f\"c: {c}\")\n",
    "\n",
    "print(f\"mean_a: {mean_a}\")\n",
    "print(f\"mean_b: {mean_b}\")\n",
    "print(f\"mean_c: {mean_c}\")\n"
   ]
  },
  {
   "cell_type": "markdown",
   "metadata": {},
   "source": [
    "\n",
    "<br>\n",
    "<br>\n",
    "\n",
    "#### 2."
   ]
  },
  {
   "cell_type": "code",
   "execution_count": null,
   "metadata": {},
   "outputs": [],
   "source": [
    "\n",
    "# Replace 11 with 13.\n",
    "\n",
    "a = [2, 7, 9, 10, 11, 14]\n",
    "\n",
    "eleven_indx = a.index(11)\n",
    "\n",
    "a.replace(eleven_indx, 13)\n",
    "\n",
    "print(f\"a: {a}\")\n"
   ]
  },
  {
   "cell_type": "markdown",
   "metadata": {},
   "source": [
    "\n",
    "<br>\n",
    "<br>\n",
    "<br>\n",
    "<br>\n",
    "<br>\n",
    "\n",
    "\n",
    "\n",
    "#### 3. "
   ]
  },
  {
   "cell_type": "code",
   "execution_count": null,
   "metadata": {},
   "outputs": [],
   "source": [
    "\n",
    "# Sort wts in decreasing order (reverse sorted) and print the element at the\n",
    "# 5th index.\n",
    "\n",
    "wts = [62.0, 64.7, 66.9, 59.5, 61.2, 68.8, 71.4, 57.6]\n",
    "\n",
    "ordered_wts = wts.sort()\n",
    "\n",
    "rev_ordered_wts = ordered_wts.reverse()\n",
    "\n",
    "fifth_element = rev_ordered_wts[5]\n",
    "\n",
    "print(f\"wts: {wts}\")\n",
    "print(f\"rev_ordered_wts: {rev_ordered_wts}\")\n",
    "print(f\"fifth_element: {fifth_element}\")\n"
   ]
  },
  {
   "cell_type": "markdown",
   "metadata": {},
   "source": [
    "#### 4."
   ]
  },
  {
   "cell_type": "code",
   "execution_count": null,
   "metadata": {},
   "outputs": [],
   "source": [
    "\n",
    "# Compute maximum of baby_snakes after removing 54 and 66.\n",
    "\n",
    "baby_snakes = [20, 22, 27, 36, 17, 47, 54, 66]\n",
    "baby_snakes.pop(54)\n",
    "baby_snakes.pop(66)\n",
    "\n",
    "max_baby_snakes = max(baby_snakes)\n",
    "\n",
    "print(f\"maximum of baby snakes: {max_baby_snakes}\")\n"
   ]
  },
  {
   "cell_type": "markdown",
   "metadata": {},
   "source": [
    "#### 5."
   ]
  },
  {
   "cell_type": "code",
   "execution_count": null,
   "metadata": {},
   "outputs": [],
   "source": [
    "\n",
    "# Append v2 and v3 to v1 and print the total number of planets.\n",
    "\n",
    "v1 = [\"mercury\", \"venus\", \"earth\"]\n",
    "v2 = [\"mars\", \"jupyter\", \"saturn\"]\n",
    "v3 = [\"uranus\", \"neptune\"]\n",
    "\n",
    "v1.append(v2)\n",
    "v1.append(v3)\n",
    "\n",
    "nbr_planets = len(v1)\n",
    "\n",
    "print(f\"v1: {v1}\")\n",
    "print(f\"Number of planets: {nbr_planets}\")\n"
   ]
  },
  {
   "cell_type": "markdown",
   "metadata": {},
   "source": [
    "#### 6."
   ]
  },
  {
   "cell_type": "code",
   "execution_count": null,
   "metadata": {},
   "outputs": [],
   "source": [
    "\n",
    "# Convert values in names to uppercase, then sort alphabetically. \n",
    "\n",
    "names = [\"sturgill\", \"hank\", \"waylon\", \"merle\", \"george\"]\n",
    "uppercase = names.upper()\n",
    "sorted_uppercase = uppercase.sort()\n",
    "\n",
    "print(\"sorted_uppercase: {sorted_uppercase}\")\n",
    "\n"
   ]
  },
  {
   "cell_type": "markdown",
   "metadata": {},
   "source": [
    "#### 7."
   ]
  },
  {
   "cell_type": "code",
   "execution_count": null,
   "metadata": {},
   "outputs": [],
   "source": [
    "\n",
    "# Convert scores to floats. Compute square root of sum.\n",
    "\n",
    "scores = [\"72.0\", \"52.7\", \"66.4\", \"99.1\", \"0.0\"]\n",
    "scores = float(scores)\n",
    "sum_scores = sum(scores)\n",
    "sqrt_sum_scores = math.sqrt(sum_scores)\n",
    "\n",
    "print(f\"sum_scores     : {sum_scores}\")\n",
    "print(f\"sqrt_sum_scores: {sqrt_sum_scores}\")\n"
   ]
  },
  {
   "cell_type": "markdown",
   "metadata": {},
   "source": [
    "\n",
    "<br>\n",
    "<br>\n",
    "<br>\n",
    "<br>\n",
    "\n",
    "#### 8.\n"
   ]
  },
  {
   "cell_type": "code",
   "execution_count": null,
   "metadata": {},
   "outputs": [],
   "source": [
    "\n",
    "# Combine digits from numbers into a single integer.\n",
    "\n",
    "numbers = [4, 7, 9, 2, 5]\n",
    "combined = \"\".join(numbers)\n",
    "combined_as_int = int(combined)\n",
    "\n",
    "print(f\"combined_as_int: {combined_as_int}\")\n"
   ]
  },
  {
   "cell_type": "markdown",
   "metadata": {},
   "source": [
    "\n",
    "<br>\n",
    "<br>\n",
    "<br>\n",
    "<br>\n",
    "<br>\n",
    "\n",
    "\n",
    "\n",
    "\n",
    "\n",
    "#### 9. "
   ]
  },
  {
   "cell_type": "code",
   "execution_count": null,
   "metadata": {},
   "outputs": [],
   "source": [
    "\n",
    "# Swap the values of the first and last elements of fruits.\n",
    "\n",
    "fruits = [\"apple\", \"orange\", \"kiwi\", \"banana\", \"peach\", \"pineapple\", \"watermelon\"]\n",
    "\n",
    "print(f\"fruits pre-swap: {fruits}\")\n",
    "\n",
    "fruits[0] = fruits[-1]\n",
    "fruits[-1] = fruits[0]\n",
    "\n",
    "print(f\"fruits post-swap: {fruits}\")\n"
   ]
  },
  {
   "cell_type": "markdown",
   "metadata": {},
   "source": [
    "#### 10."
   ]
  },
  {
   "cell_type": "code",
   "execution_count": null,
   "metadata": {},
   "outputs": [],
   "source": [
    "\n",
    "# Determine the number of characters (including whitespace) in w1 and w2 combined.\n",
    "\n",
    "w1 = [\"ticking\", \"away\", \"the\", \"moments\", \"that\", \"make\", \"up\", \"a\", \"dull\", \"day\"]\n",
    "w2 = [\"you\", \"fritter\", \"and\", \"waste\", \"the\", \"hours\", \"in\", \"an\", \"offhand\", \"way\"]\n",
    "w3 = w1 + w2\n",
    "\n",
    "n_chars = len(w3)\n",
    "\n",
    "print(f\"Number of characters in w3: {n_chars}\")\n"
   ]
  }
 ],
 "metadata": {
  "kernelspec": {
   "display_name": "Python 3",
   "language": "python",
   "name": "python3"
  },
  "language_info": {
   "codemirror_mode": {
    "name": "ipython",
    "version": 3
   },
   "file_extension": ".py",
   "mimetype": "text/x-python",
   "name": "python",
   "nbconvert_exporter": "python",
   "pygments_lexer": "ipython3",
   "version": "3.12.0"
  }
 },
 "nbformat": 4,
 "nbformat_minor": 2
}
