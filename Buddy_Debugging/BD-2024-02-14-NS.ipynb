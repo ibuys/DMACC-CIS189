{
 "cells": [
  {
   "cell_type": "markdown",
   "metadata": {},
   "source": [
    "### Buddy Debugging - 2024-02-14\n",
    "---"
   ]
  },
  {
   "cell_type": "markdown",
   "metadata": {},
   "source": [
    "#### 1."
   ]
  },
  {
   "cell_type": "code",
   "execution_count": null,
   "metadata": {},
   "outputs": [],
   "source": [
    "\n",
    "minutes_to_seconds(minutes):\n",
    "    \"\"\"\n",
    "    Compute the number of seconds in minutes.\n",
    "    \"\"\"\n",
    "secs = minutes * 60\n",
    "    return(secs)\n"
   ]
  },
  {
   "cell_type": "markdown",
   "metadata": {},
   "source": [
    "#### 2."
   ]
  },
  {
   "cell_type": "code",
   "execution_count": null,
   "metadata": {},
   "outputs": [],
   "source": [
    "\n",
    "\n",
    "def sphere_volume(radius)\n",
    "\"\"\"\n",
    "Compute volume of sphere, (4. 3) * pi * radius**3\n",
    "\"\"\"\n",
    "volume = (4 / 3) * pi * radius**3\n",
    "return volume\n"
   ]
  },
  {
   "cell_type": "markdown",
   "metadata": {},
   "source": [
    "#### 3."
   ]
  },
  {
   "cell_type": "code",
   "execution_count": null,
   "metadata": {},
   "outputs": [],
   "source": [
    "\n",
    "\n",
    "# Prompt user for bank balance. If greater than or equal to 0, print \"OK\". \n",
    "# If less than 0, print \"overdrawn\".\n",
    "\n",
    "try:\n",
    "    balance = input(\"Enter account balance: \")\n",
    "\n",
    "    if balance >= 0\n",
    "        print(\"OK\")\n",
    "    \n",
    "    else:\n",
    "        print(\"overdrawn\")\n",
    "\n",
    "\n",
    "\n"
   ]
  },
  {
   "cell_type": "markdown",
   "metadata": {},
   "source": [
    "\n",
    "<br>\n",
    "<br>\n",
    "<br>\n",
    "\n",
    "\n",
    "#### 4."
   ]
  },
  {
   "cell_type": "code",
   "execution_count": null,
   "metadata": {},
   "outputs": [],
   "source": [
    "\n",
    "\n",
    "# Function to return the number of a's in s. s should be assumed to be all\n",
    "# lowercase.\n",
    "\n",
    "def get_a_count(s):\n",
    "    \"\"\"\n",
    "    Count the number of a characters in s. \n",
    "    \"\"\"\n",
    "    n = s.count(\"a\")\n",
    "    print(n)\n",
    "\n",
    "\n",
    "# Test function.\n",
    "s = \"aaAAAannnnngggggaaaanAAssnsssaaaaanaaaaaaaa\"\n",
    "result = get_a_count(s)\n",
    "print(f\"Number of a characters: {result}\")\n"
   ]
  },
  {
   "cell_type": "markdown",
   "metadata": {},
   "source": [
    "\n",
    "<br>\n",
    "<br>\n",
    "\n",
    "#### 5."
   ]
  },
  {
   "cell_type": "code",
   "execution_count": null,
   "metadata": {},
   "outputs": [],
   "source": [
    "\n",
    "\n",
    "\n",
    "def string_joiner(a, b, c):\n",
    "    \"\"\"\n",
    "    Concatenate arguments and return as dash delimited string.\n",
    "    \"\"\"\n",
    "    # Combine characters in list.\n",
    "    chars = [a, b, c, d]\n",
    "    s = \"-\".join(chars)\n",
    "\n",
    "\n",
    "# Test function.\n",
    "result = string_joiner(\"home\", \"sweet\", \"home\")\n",
    "\n",
    "print(f\"result: {result}.\")\n",
    "\n"
   ]
  },
  {
   "cell_type": "markdown",
   "metadata": {},
   "source": [
    "\n",
    "\n",
    "<br>\n",
    "<br>\n",
    "\n",
    "<br>\n",
    "<br>\n",
    "\n",
    "#### 6."
   ]
  },
  {
   "cell_type": "code",
   "execution_count": null,
   "metadata": {},
   "outputs": [],
   "source": [
    "\n",
    "\n",
    "def average_no_min(vals)\n",
    "    \"\"\"\n",
    "    Compute average of vals after removing the minimum value. If\n",
    "    length of vals  is 0, return None. If length of vals is 1, \n",
    "    return first element of vals.\n",
    "    \"\"\"\n",
    "    if len(vals) == 0:\n",
    "        return None\n",
    "    \n",
    "    elif len vals == 1:\n",
    "        print(vals[0])\n",
    "\n",
    "    else:\n",
    "        min_indx = vals.index(min(vals))\n",
    "        vals.pop(min_indx)\n",
    "        avg = statistics.mean(vals)\n",
    "        return avg\n",
    "    \n"
   ]
  },
  {
   "cell_type": "markdown",
   "metadata": {},
   "source": [
    "\n",
    "\n",
    "<br>\n",
    "<br>\n",
    "\n",
    "#### 7."
   ]
  },
  {
   "cell_type": "code",
   "execution_count": null,
   "metadata": {},
   "outputs": [],
   "source": [
    "\n",
    "\n",
    "def root_at_indx(vals, indx):\n",
    "    \"\"\"\n",
    "    Compute the square root of the number at indx in list vals. If exception is \n",
    "    thrown, return -1. \n",
    "    \"\"\"\n",
    "    try\n",
    "        test_val = vals[indx]\n",
    "        result = sqrt(test_val)\n",
    "except IndexError:\n",
    "    result = None\n",
    "\n",
    "    return result\n"
   ]
  },
  {
   "cell_type": "markdown",
   "metadata": {},
   "source": [
    "\n",
    "\n",
    "<br>\n",
    "<br>\n",
    "\n",
    "<br>\n",
    "<br>\n",
    "\n",
    "#### 8."
   ]
  },
  {
   "cell_type": "code",
   "execution_count": null,
   "metadata": {},
   "outputs": [],
   "source": [
    "\n",
    "\n",
    "def get_speed(d, t, units):\n",
    "    \"\"\"\n",
    "    Compute the average speed of an object that traveled distance d miles in t hours,\n",
    "    where speed = distance divided by time. If speed is greater than 100, \n",
    "    return 100. Otherwise return calculated speed. \n",
    "    \"\"\"\n",
    "    speed = distance \\ time\n",
    "\n",
    "    if sped > 100:\n",
    "        return 100\n",
    "    else:\n",
    "        return speed\n"
   ]
  },
  {
   "cell_type": "markdown",
   "metadata": {},
   "source": [
    "#### 9."
   ]
  },
  {
   "cell_type": "code",
   "execution_count": null,
   "metadata": {},
   "outputs": [],
   "source": [
    "\n",
    "\n",
    "def consolidator(a b c d e)\n",
    "    \"\"\"\n",
    "    Combine function arguments into a list and return values \n",
    "    sorted aplhabetically.\n",
    "    \"\"\"\n",
    "    combined == [a, b, c, d, e]\n",
    "    combined = sorted(combined)\n",
    "    return combined\n"
   ]
  }
 ],
 "metadata": {
  "kernelspec": {
   "display_name": "Python 3",
   "language": "python",
   "name": "python3"
  },
  "language_info": {
   "codemirror_mode": {
    "name": "ipython",
    "version": 3
   },
   "file_extension": ".py",
   "mimetype": "text/x-python",
   "name": "python",
   "nbconvert_exporter": "python",
   "pygments_lexer": "ipython3",
   "version": "3.12.0"
  }
 },
 "nbformat": 4,
 "nbformat_minor": 2
}
