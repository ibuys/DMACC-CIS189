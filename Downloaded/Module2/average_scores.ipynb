{
  "metadata": {
    "kernelspec": {
      "name": "python",
      "display_name": "Python (Pyodide)",
      "language": "python"
    },
    "language_info": {
      "codemirror_mode": {
        "name": "python",
        "version": 3
      },
      "file_extension": ".py",
      "mimetype": "text/x-python",
      "name": "python",
      "nbconvert_exporter": "python",
      "pygments_lexer": "ipython3",
      "version": "3.8"
    }
  },
  "nbformat_minor": 4,
  "nbformat": 4,
  "cells": [
    {
      "cell_type": "code",
      "source": "\"\"\" \nThis program helps you calculate your average grade \n\"\"\" \n\n#Add personal information \nlast_name = input(\"Enter your last name:\") \nfirst_name = input(\"Enter your first name:\") \nage = input(\"Enter your age:\") \n\n#Add three scores \nscore1 = int(input(\"Enter first score: \"))\nscore2 = int(input(\"Enter second score: \"))\nscore3 = int(input(\"Enter third score: \"))\n\n#Calculate the average of all three scores \naverage = (score1 + score2 + score3) / 3 \n\n#Print the outcome \nprint(last_name, first_name, \"age:\",age, \"average grade:\",average)",
      "metadata": {
        "trusted": true,
        "tags": [],
        "editable": true,
        "slideshow": {
          "slide_type": ""
        }
      },
      "outputs": [],
      "execution_count": null
    }
  ]
}