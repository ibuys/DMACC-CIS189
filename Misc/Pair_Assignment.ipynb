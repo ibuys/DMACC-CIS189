{
 "cells": [
  {
   "attachments": {},
   "cell_type": "markdown",
   "id": "c9f76571",
   "metadata": {},
   "source": [
    "### Code to assign pairs for buddy debugging.\n",
    "---\n",
    "\n",
    "Requirements:\n",
    "\n",
    "1. Pairs are order invariant: `(person_a, person_b) = (person_b, person_a)`.\n",
    "2. No self assignments `(person_a, person_a)`.\n",
    "3. Need to ensure that drawn pair hasn't occurred in prior week.\n",
    "4. Need to ensure that individual is not assigned twice in a given week. \n"
   ]
  },
  {
   "cell_type": "code",
   "execution_count": 1,
   "id": "1e3f8d99",
   "metadata": {},
   "outputs": [
    {
     "name": "stdout",
     "output_type": "stream",
     "text": [
      "\n",
      "prior_pairs: [{'caleb w.', 'kieron f.'}, {'alex d.', 'perter o. '}, {'yuliia b.', 'adam h.'}, {'bradley b.', 'javin m.'}, {'tanner p.', 'calvin o.'}, {'alex l.', 'muhammed m.'}]\n",
      "\n",
      "dassigned: {'bradley b.': False, 'yuliia b.': False, 'alex d.': False, 'kieron f.': False, 'vicente g.': False, 'adam h.': False, 'alex l.': False, 'muhammed m.': False, 'javin m.': False, 'calvin o.': False, 'peter o.': False, 'tanner p.': False, 'caleb w.': False, 'virginia b.': False}\n"
     ]
    }
   ],
   "source": [
    "\n",
    "from datetime import datetime\n",
    "import itertools\n",
    "from pprint import pprint\n",
    "import random\n",
    "import numpy as np\n",
    "import pandas as pd\n",
    "\n",
    "\n",
    "curr_date = datetime.now().strftime(\"%Y-%m-%d\")\n",
    "\n",
    "\n",
    "# Create list of students enrolled in CIS189. \n",
    "students = [\n",
    "    # \"finn a.\",\n",
    "    \"bradley b.\",\n",
    "    \"yuliia b.\",\n",
    "    # \"leigha c.\",\n",
    "    # \"rj d.\",\n",
    "    \"alex d.\", \n",
    "    \"kieron f.\",\n",
    "    # \"manny g.\",\n",
    "    \"vicente g.\",\n",
    "    \"adam h.\",\n",
    "    # \"derrick k.\",\n",
    "    \"alex l.\",\n",
    "    \"muhammed m.\",\n",
    "    # \"anthony m.\", \n",
    "    \"javin m.\",\n",
    "    \"calvin o.\",\n",
    "    \"peter o.\",\n",
    "    \"tanner p.\",\n",
    "    \"caleb w.\",\n",
    "    \"virginia b.\"\n",
    "    ] \n",
    "\n",
    "\n",
    "# Create list to hold already paired students (empty for first week).\n",
    "prior_pairs = []\n",
    "dfassigned = pd.read_csv(\"assigned-pairs.csv\")\n",
    "for tt in dfassigned.itertuples():\n",
    "    prior_pairs.append(set([tt.student1, tt.student2]))\n",
    "\n",
    "print(f\"\\nprior_pairs: {prior_pairs}\\n\")\n",
    "\n",
    "# Create lookup table to track which students have been assigned. \n",
    "dassigned = {student: False for student in students}\n",
    "\n",
    "print(f\"dassigned: {dassigned}\")\n",
    "\n",
    "# Determine pairings for this week.\n",
    "this_week = []\n"
   ]
  },
  {
   "cell_type": "code",
   "execution_count": 2,
   "id": "1e24b0de",
   "metadata": {},
   "outputs": [
    {
     "name": "stdout",
     "output_type": "stream",
     "text": [
      "Buddy debugging pairs for 2024-02-04:\n",
      "\n",
      "{'virginia b.', 'kieron f.'}\n",
      "\n",
      "{'caleb w.', 'alex d.'}\n",
      "\n",
      "{'yuliia b.', 'calvin o.'}\n",
      "\n",
      "{'bradley b.', 'adam h.'}\n",
      "\n",
      "{'tanner p.', 'vicente g.'}\n",
      "\n",
      "{'muhammed m.', 'javin m.'}\n",
      "\n",
      "{'alex l.', 'peter o.'}\n",
      "\n"
     ]
    }
   ],
   "source": [
    "\n",
    "random.seed(523)\n",
    "\n",
    "random.shuffle(students)\n",
    "\n",
    "# Iterate over students list.\n",
    "for student in students:\n",
    "\n",
    "    # Ensure name hasn't already been assigned.\n",
    "    if dassigned[student] == False:\n",
    "\n",
    "        # Lookup all other students who haven't yet been assigned. Also\n",
    "        # exclude current student.\n",
    "        candidates = [kk for kk in dassigned if dassigned[kk] == False and kk != student]\n",
    "\n",
    "        # Select random student from candidates list (student2).\n",
    "        for student2 in random.sample(candidates, len(candidates)):\n",
    "\n",
    "            pair = set([student, student2])\n",
    "\n",
    "            if pair not in prior_pairs:\n",
    "                # Update student and student2 in dassigned. Stop searching \n",
    "                # candidate list since match has been found. Update this_week \n",
    "                # list.\n",
    "                dassigned[student] = True\n",
    "                dassigned[student2] = True\n",
    "                this_week.append(pair)\n",
    "                break\n",
    "        else:\n",
    "            pair = set([student, None])\n",
    "            this_week.append(pair)\n",
    "\n",
    "\n",
    "\n",
    "\n",
    "print(f\"Buddy debugging pairs for {curr_date}:\\n\")\n",
    "for pp in this_week:\n",
    "    print(pp, end=\"\\n\\n\")\n",
    "\n",
    "\n",
    "\n"
   ]
  },
  {
   "cell_type": "code",
   "execution_count": null,
   "id": "b5b4117a",
   "metadata": {},
   "outputs": [],
   "source": [
    "\n",
    "#Add this week to assigned-pairs.csv.\n",
    "dfthis = pd.DataFrame(this_week).rename({0: \"student1\", 1: \"student2\"}, axis=1)\n",
    "                                         \n",
    "# Combine with dfassigned, and export. \n",
    "dfcombined = pd.concat([dfassigned, dfthis]).dropna(how=\"any\").drop_duplicates()\n",
    "\n",
    "# dfcombined.to_csv(\"assigned-pairs.csv\", index=False)\n"
   ]
  }
 ],
 "metadata": {
  "kernelspec": {
   "display_name": "Python 3",
   "language": "python",
   "name": "python3"
  },
  "language_info": {
   "codemirror_mode": {
    "name": "ipython",
    "version": 3
   },
   "file_extension": ".py",
   "mimetype": "text/x-python",
   "name": "python",
   "nbconvert_exporter": "python",
   "pygments_lexer": "ipython3",
   "version": "3.12.0"
  }
 },
 "nbformat": 4,
 "nbformat_minor": 5
}
