{
 "cells": [
  {
   "cell_type": "markdown",
   "id": "c9f76571",
   "metadata": {},
   "source": [
    "### Code to assign pairs for buddy debugging.\n",
    "---\n",
    "\n",
    "Requirements:\n",
    "\n",
    "1. Pairs are order invariant: `(person_a, person_b) = (person_b, person_a)`.\n",
    "2. No self assignments `(person_a, person_a)`.\n",
    "3. Need to ensure that drawn pair hasn't occurred in prior week.\n",
    "4. Need to ensure that individual is not assigned twice in a given week. \n"
   ]
  },
  {
   "cell_type": "code",
   "execution_count": null,
   "id": "1e3f8d99",
   "metadata": {},
   "outputs": [],
   "source": [
    "\n",
    "from datetime import datetime\n",
    "import itertools\n",
    "from pprint import pprint\n",
    "import random\n",
    "import numpy as np\n",
    "\n",
    "\n",
    "curr_date = datetime.now().strftime(\"%Y-%m-%d\")\n",
    "\n",
    "\n",
    "# Create list of students enrolled in CIS189. \n",
    "students = [\n",
    "    \"finn a.\",\n",
    "    \"bradley b.\",\n",
    "    \"yuliia b.\",\n",
    "    \"leigha c.\",\n",
    "    \"rj d.\",\n",
    "    \"alex d.\", \n",
    "    \"kieron f.\",\n",
    "    \"manny g.\",\n",
    "    \"vicente g.\",\n",
    "    \"adam h.\",\n",
    "    \"dylan j.\", \n",
    "    \"derrick k.\",\n",
    "    \"alex l.\",\n",
    "    \"chi l.\",\n",
    "    \"muhammed m.\",\n",
    "    \"anthony m.\", \n",
    "    \"javin m.\",\n",
    "    \"calvin o.\",\n",
    "    \"peter o.\",\n",
    "    \"tanner p.\",\n",
    "    \"caleb w.\",\n",
    "    \"virginia b.\"\n",
    "    ] \n",
    "\n",
    "\n",
    "# Create list to hold already paired students (empty for first week).\n",
    "prior_pairs = []\n",
    "\n",
    "print(f\"\\nprior_pairs: {prior_pairs}\\n\")\n",
    "\n",
    "\n"
   ]
  },
  {
   "cell_type": "markdown",
   "id": "a2f069fe",
   "metadata": {},
   "source": [
    "For a collection of $n$ items, there are a total of \n",
    "\n",
    "$$\n",
    "\\frac{n!}{k!(n - k)!}\n",
    "$$ \n",
    "\n",
    "\n",
    "length-$k$ possible combinations. This is the [binomial coefficient](https://en.wikipedia.org/wiki/Binomial_coefficient)."
   ]
  },
  {
   "cell_type": "code",
   "execution_count": null,
   "id": "408ec23c",
   "metadata": {},
   "outputs": [],
   "source": [
    "\n",
    "def fact(n):\n",
    "    \"\"\"\n",
    "    Iterative implementation of n factorial.\n",
    "\n",
    "    Parameters\n",
    "    ----------\n",
    "    n: int\n",
    "        Target integer.\n",
    "\n",
    "    Returns\n",
    "    -------\n",
    "    int\n",
    "    \"\"\"\n",
    "    if n <= 1:\n",
    "        return(1)\n",
    "    else:\n",
    "        result = 1\n",
    "        for i in range(2, int(n) + 1):\n",
    "            result*=i\n",
    "        return(result)\n",
    "    \n",
    "\n",
    "def binomial_coeff(n, k):\n",
    "    \"\"\"\n",
    "    Compute the binomial coefficient of n choose k. \n",
    "\n",
    "    Parameters\n",
    "    ----------\n",
    "    n: int\n",
    "        Number of elements in sequence of interest.\n",
    "\n",
    "    k: int\n",
    "        The size of the group.\n",
    "\n",
    "    Returns\n",
    "    -------\n",
    "    int\n",
    "    \"\"\"\n",
    "    v = fact(n) / (fact(k) * fact(n - k))\n",
    "    return int(v)\n",
    "\n",
    "\n",
    "print(f\"For a list of 3, there are {binomial_coeff(3, 2)} pairings.\")\n",
    "print(f\"For a list of 4, there are {binomial_coeff(4, 2)} pairings.\")\n",
    "print(f\"For a list of 10, there are {binomial_coeff(10, 2)} pairings.\")\n",
    "print(f\"For a list of 21, there are {binomial_coeff(21, 2)} pairings.\")\n",
    "print(f\"For a list of 100, there are {binomial_coeff(100, 2)} pairings.\")\n",
    "print(f\"For a list of 1000, there are {binomial_coeff(1000, 2)} pairings.\")\n"
   ]
  },
  {
   "cell_type": "code",
   "execution_count": null,
   "id": "e0ca506b",
   "metadata": {},
   "outputs": [],
   "source": [
    "# Create lookup table to track which students have been assigned. \n",
    "dassigned = {student: False for student in students}\n",
    "\n",
    "print(f\"dassigned: {dassigned}\")\n",
    "\n",
    "# Determine pairings for this week.\n",
    "this_week = []\n"
   ]
  },
  {
   "cell_type": "code",
   "execution_count": null,
   "id": "1e24b0de",
   "metadata": {},
   "outputs": [],
   "source": [
    "\n",
    "random.seed(517)\n",
    "\n",
    "# Iterate over students list.\n",
    "for student in students:\n",
    "\n",
    "    # Ensure name hasn't already been assigned.\n",
    "    if dassigned[student] == False:\n",
    "\n",
    "        # Lookup all other students who haven't yet been assigned. Also\n",
    "        # exclude current student.\n",
    "        candidates = [kk for kk in dassigned if dassigned[kk] == False and kk != student]\n",
    "\n",
    "        # Select random student from candidates list (student2).\n",
    "        for student2 in random.sample(candidates, len(candidates)):\n",
    "\n",
    "            pair = set([student, student2])\n",
    "\n",
    "            if pair not in prior_pairs:\n",
    "                # Update student and student2 in dassigned. Stop searching \n",
    "                # candidate list since match has been found. Update this_week \n",
    "                # list.\n",
    "                dassigned[student] = True\n",
    "                dassigned[student2] = True\n",
    "                this_week.append(pair)\n",
    "                break\n",
    "        else:\n",
    "            pair = set([student, None])\n",
    "            this_week.append(pair)\n",
    "\n",
    "\n",
    "\n",
    "\n",
    "print(f\"Buddy debugging pairs for {curr_date}:\\n\")\n",
    "for pp in this_week:\n",
    "    print(pp, end=\"\\n\\n\")\n",
    "\n",
    "\n",
    "\n"
   ]
  },
  {
   "cell_type": "code",
   "execution_count": null,
   "id": "46987ebf",
   "metadata": {},
   "outputs": [],
   "source": [
    "ap = [s for s in ap if None not in s]\n",
    "dref = {kk: 0 for kk in a}\n",
    "this_week = []\n",
    "dcan = {}\n",
    "\n",
    "for name in random.sample(a, len(a)):\n",
    "\n",
    "    # Ensure name hasn't already been assigned.\n",
    "    if dref[name] != 1:\n",
    "        candidates = [kk for kk in dref if dref[kk] == 0 and kk != name]\n",
    "        dcan[name] = candidates\n",
    "        for name2 in random.sample(candidates, len(candidates)):\n",
    "\n",
    "            pair = set([name, name2])\n",
    "\n",
    "            if pair not in ap:\n",
    "                this_week.append(pair)\n",
    "                ap.append(pair)\n",
    "                dref[name] = 1\n",
    "                dref[name2] = 1\n",
    "                break\n",
    "        else:\n",
    "            ap.append(set([name, None]))\n",
    "\n",
    "\n",
    "\n",
    "pp = sorted(list(itertools.chain.from_iterable(this_week)))\n",
    "np = [ii for ii in a if ii not in pp]\n",
    "ii+=1\n",
    "\n",
    "print(f\"np: {np}\")\n",
    "print(f\"this_week: {this_week}\")\n",
    "print(f\"ap: {ap}\")\n",
    "print(f\"len(ap): {len(ap)}\")\n",
    "print(f\"ii: {ii}\")\n",
    "\n",
    "\n"
   ]
  },
  {
   "cell_type": "code",
   "execution_count": null,
   "id": "c6471cf0",
   "metadata": {},
   "outputs": [],
   "source": [
    "import networkx as nx\n",
    "\n",
    "all_pairs = [tt for tt in itertools.product(a[:-1], repeat=2)]\n",
    "all_pairs = sorted([sorted(tt) for tt in all_pairs if tt[0]!=tt[1]])\n",
    "edges = [k for k, _ in itertools.groupby(all_pairs)]\n",
    "\n",
    "random.shuffle(edges)\n",
    "G = nx.DiGraph(edges)\n",
    "\n",
    "pairs = nx.tournament.hamiltonian_path(G)\n",
    "\n",
    "this_week = [pairs[(2 * ii):(2 + 2 * ii)] for ii in range(len(pairs) // 2)]\n",
    "\n",
    "dev_null = [G.remove_edge(*ee) for ee in this_week]\n",
    "\n",
    "nx.tournament.hamiltonian_path(G)\n",
    "\n",
    "\n",
    "\n",
    "\n"
   ]
  },
  {
   "cell_type": "code",
   "execution_count": null,
   "id": "bc0eb923",
   "metadata": {},
   "outputs": [],
   "source": [
    "\n",
    "all_pairs = [tt for tt in itertools.product(a[:-1], repeat=2)]\n",
    "edges = [tt for tt in all_pairs if tt[0]!=tt[1]]\n",
    "\n",
    "random.shuffle(edges)\n",
    "\n",
    "G = nx.DiGraph(edges)\n",
    "\n",
    "pairs = nx.tournament.hamiltonian_path(G)\n",
    "\n",
    "this_week = [tuple(pairs[(2 * ii):(2 + 2 * ii)]) for ii in range(len(pairs) // 2)]\n",
    "\n",
    "# dev_null = [G.remove_edge(*ee) for ee in this_week]\n",
    "\n",
    "print(pairs)\n",
    "\n",
    "print(this_week)\n",
    "\n"
   ]
  },
  {
   "cell_type": "markdown",
   "id": "14498797",
   "metadata": {},
   "source": [
    "['k', 'c', 'e', 'n', 'i', 'l', 'j', 'a', 'g', 'b', 'd', 'f', 'h', 'm']\n",
    "[('k', 'c'), ('e', 'n'), ('i', 'l'), ('j', 'a'), ('g', 'b'), ('d', 'f'), ('h', 'm')]\n",
    "\n"
   ]
  },
  {
   "cell_type": "code",
   "execution_count": null,
   "id": "4e54acb2",
   "metadata": {},
   "outputs": [],
   "source": [
    "\n",
    "edges2 = [tt for tt in edges if tt not in this_week]\n",
    "edges2 = [tt for tt in edges2 if tt not in [vv[::-1] for vv in this_week]]\n",
    "\n",
    "G = nx.DiGraph(edges2)\n",
    "\n",
    "pairs = nx.tournament.hamiltonian_path(G)\n",
    "\n",
    "this_week = [tuple(pairs[(2 * ii):(2 + 2 * ii)]) for ii in range(len(pairs) // 2)]\n",
    "\n",
    "# dev_null = [G.remove_edge(*ee) for ee in this_week]\n",
    "\n",
    "print(pairs)\n",
    "\n",
    "print(this_week)\n"
   ]
  },
  {
   "cell_type": "code",
   "execution_count": null,
   "id": "a25a20ed",
   "metadata": {},
   "outputs": [],
   "source": [
    "('k', 'c') in edges2"
   ]
  },
  {
   "cell_type": "code",
   "execution_count": null,
   "id": "b32f634f",
   "metadata": {},
   "outputs": [],
   "source": [
    "('a', 'f') in edges"
   ]
  },
  {
   "cell_type": "code",
   "execution_count": null,
   "id": "f6b418ab",
   "metadata": {},
   "outputs": [],
   "source": [
    "(\"a\", \"b\") in G.edges\n"
   ]
  },
  {
   "cell_type": "code",
   "execution_count": null,
   "id": "0134c3b4",
   "metadata": {},
   "outputs": [],
   "source": [
    "pairs = nx.tournament.hamiltonian_path(G)\n",
    "\n",
    "this_week = [pairs[(2 * ii):(2 + 2 * ii)] for ii in range(len(pairs) // 2)]\n",
    "\n",
    "this_week\n",
    "\n"
   ]
  },
  {
   "cell_type": "code",
   "execution_count": null,
   "id": "74af7117",
   "metadata": {},
   "outputs": [],
   "source": [
    "this_week = [pairs[(2 * ii):(2 + 2 * ii)] for ii in range(len(pairs) // 2)]\n",
    "\n",
    "this_week"
   ]
  },
  {
   "cell_type": "code",
   "execution_count": null,
   "id": "84f036bf",
   "metadata": {},
   "outputs": [],
   "source": [
    "G.remove"
   ]
  },
  {
   "cell_type": "code",
   "execution_count": null,
   "id": "83cddd69",
   "metadata": {},
   "outputs": [],
   "source": [
    "\n",
    "True\n",
    "nx.tournament.hamiltonian_path(G)\n",
    "[0, 1, 2, 3]"
   ]
  },
  {
   "cell_type": "code",
   "execution_count": null,
   "id": "751c1e9a",
   "metadata": {},
   "outputs": [],
   "source": [
    "dev_null = [ap.append(s) for s in this_week]\n",
    "\n",
    "ap"
   ]
  },
  {
   "cell_type": "code",
   "execution_count": null,
   "id": "0a3f9379",
   "metadata": {},
   "outputs": [],
   "source": [
    "a = [\"a\", \"b\", \"c\", \"d\", \"e\", \"f\", \"g\", \"h\" ,\"i\", \"j\"]\n",
    "\n",
    "ll = [tt for tt in itertools.product(a, repeat=2)]\n",
    "ll = [sorted(tt) for tt in ll if tt[0]!=tt[1]]\n",
    "# ll = set([s for s in ll if len(s)>1])\n",
    "\n",
    "print(len(ll))"
   ]
  },
  {
   "cell_type": "code",
   "execution_count": null,
   "id": "8ef8122d",
   "metadata": {},
   "outputs": [],
   "source": [
    "def fact(n):\n",
    "    if n<=1:\n",
    "        return(1)\n",
    "    else:\n",
    "        return(n * fact(n - 1))\n",
    "    \n",
    "\n",
    "\n",
    "fact(21) / (fact(2) * fact(19))\n"
   ]
  },
  {
   "cell_type": "code",
   "execution_count": null,
   "id": "32e40152",
   "metadata": {},
   "outputs": [],
   "source": [
    "fact(21)"
   ]
  },
  {
   "cell_type": "code",
   "execution_count": null,
   "id": "b0f95959",
   "metadata": {},
   "outputs": [],
   "source": [
    "n = 7\n",
    "\n",
    "\n",
    "def g(n):\n",
    "    return(n * (n - 1))\n",
    "\n",
    "\n",
    "[g(i) for i in range(3, 25)]\n"
   ]
  },
  {
   "cell_type": "code",
   "execution_count": null,
   "id": "3af4d9ea",
   "metadata": {},
   "outputs": [],
   "source": [
    "a = 4\n",
    "b = 4\n",
    "c = 4\n",
    "d = 4\n",
    "e = 4\n",
    "\n",
    "3 -> 6\n",
    "4 -> 12\n",
    "5 -> 20\n",
    "6 -> 30\n",
    "7 -> 42\n",
    "8 -> 56\n",
    "9 -> 72\n",
    "10 -> 90\n",
    "\n",
    "\n"
   ]
  },
  {
   "cell_type": "code",
   "execution_count": null,
   "id": "7ecdec50",
   "metadata": {},
   "outputs": [],
   "source": [
    "already_paired = [set([\"a\", \"b\"]), set([\"d\", \"e\"]), set([\"f\", \"c\"])]\n",
    "\n",
    "\n",
    "set([\"b\", \"a\"]) in already_paired\n",
    "\n",
    "\n",
    "\n",
    "\n",
    "\n",
    "\n",
    "\n",
    "\n"
   ]
  }
 ],
 "metadata": {
  "kernelspec": {
   "display_name": "Python 3",
   "language": "python",
   "name": "python3"
  },
  "language_info": {
   "codemirror_mode": {
    "name": "ipython",
    "version": 3
   },
   "file_extension": ".py",
   "mimetype": "text/x-python",
   "name": "python",
   "nbconvert_exporter": "python",
   "pygments_lexer": "ipython3",
   "version": "3.12.0"
  }
 },
 "nbformat": 4,
 "nbformat_minor": 5
}
