{
 "cells": [
  {
   "cell_type": "markdown",
   "metadata": {},
   "source": [
    "## CIS189 Module \\#2\n",
    "---\n",
    "Author: James D. Triveri"
   ]
  },
  {
   "cell_type": "markdown",
   "metadata": {},
   "source": [
    "### Strings\n",
    "\n",
    "- Documentation: https://docs.python.org/3/library/stdtypes.html#text-sequence-type-str\n"
   ]
  },
  {
   "cell_type": "markdown",
   "metadata": {},
   "source": [
    "Strings are immutable sequences of Unicode code points. *Immutable* means the object cannot be changed once it has been defined. "
   ]
  },
  {
   "cell_type": "code",
   "execution_count": null,
   "metadata": {},
   "outputs": [],
   "source": [
    "\n",
    "phrase = \"turtles all the way down\"\n"
   ]
  },
  {
   "cell_type": "code",
   "execution_count": null,
   "metadata": {},
   "outputs": [],
   "source": [
    "\n",
    "# Find the length of phrase with len:\n",
    "len(phrase)\n"
   ]
  },
  {
   "cell_type": "code",
   "execution_count": null,
   "metadata": {},
   "outputs": [],
   "source": [
    "\n",
    "# Check if the letter `z` is in phrase:\n",
    "\"z\" in phrase\n"
   ]
  },
  {
   "cell_type": "code",
   "execution_count": null,
   "metadata": {},
   "outputs": [],
   "source": [
    "\n",
    "# Check if `down` is in phrase:\n",
    "\"down\" in phrase\n"
   ]
  },
  {
   "cell_type": "code",
   "execution_count": null,
   "metadata": {},
   "outputs": [],
   "source": [
    "\n",
    "# Check if phrase starts with \"turtles\":\n",
    "phrase.startswith(\"turtles\")\n"
   ]
  },
  {
   "cell_type": "code",
   "execution_count": null,
   "metadata": {},
   "outputs": [],
   "source": [
    "\n",
    "# Check if phrase ends with turtles.\n",
    "phrase.endswith(\"turtles\")\n"
   ]
  },
  {
   "cell_type": "code",
   "execution_count": null,
   "metadata": {},
   "outputs": [],
   "source": [
    "\n",
    "# Count the number of `a`s in phrase:\n",
    "phrase.count(\"a\")\n"
   ]
  },
  {
   "cell_type": "code",
   "execution_count": null,
   "metadata": {},
   "outputs": [],
   "source": [
    "\n",
    "# Get first character in phrase. Recall that Python uses 0-based indexing.\n",
    "phrase[0]\n"
   ]
  },
  {
   "cell_type": "code",
   "execution_count": null,
   "metadata": {},
   "outputs": [],
   "source": [
    "\n",
    "# Get last character in phrase: (example using string length as index):\n",
    "phrase[-1]\n"
   ]
  },
  {
   "cell_type": "code",
   "execution_count": null,
   "metadata": {},
   "outputs": [],
   "source": [
    "\n",
    "# Get first 5 characters of phrase:\n",
    "phrase[:5]"
   ]
  },
  {
   "cell_type": "code",
   "execution_count": null,
   "metadata": {},
   "outputs": [],
   "source": [
    "\n",
    "# Get last 5 characters of phrase:\n",
    "phrase[-5:]\n"
   ]
  },
  {
   "cell_type": "code",
   "execution_count": null,
   "metadata": {},
   "outputs": [],
   "source": [
    "\n",
    "# Get characters 4 thru 7 of phrase: \"turtles all the way down\"\n",
    "# Note that when using slice notation, the last index is not \n",
    "# included. \n",
    "phrase[3:7]"
   ]
  },
  {
   "cell_type": "code",
   "execution_count": null,
   "metadata": {},
   "outputs": [],
   "source": [
    "\n",
    "# Convert phrase into a list of words split on whitespace.\n",
    "word_list = phrase.split(\" \")\n",
    "\n",
    "\n",
    "print(f\"type(phrase)   : {type(phrase)}\")\n",
    "print(f\"len(phrase)    : {len(phrase)}\")\n",
    "\n",
    "print(f\"\\ntype(word_list) : {type(word_list)}\")\n",
    "print(f\"len(word_list)  : {len(word_list)}\")\n",
    "\n",
    "print(f\"\\nword_list : {word_list}\")\n"
   ]
  },
  {
   "cell_type": "code",
   "execution_count": null,
   "metadata": {},
   "outputs": [],
   "source": [
    "\n",
    "# What happens if we split phrase on a non-whitespace character?\n",
    "# 'turtles all the way down'\n",
    "phrase.split(\"a\")"
   ]
  },
  {
   "cell_type": "code",
   "execution_count": null,
   "metadata": {},
   "outputs": [],
   "source": [
    "\n",
    "# Convert a string into a list of characters.\n",
    "list(phrase)"
   ]
  },
  {
   "cell_type": "markdown",
   "metadata": {},
   "source": [
    "We can list all the methods of an object in Python by running `dir(object)`. For now, you can ignore \n",
    "all the results that start with a leading underscore (or two). These are special methods, and shouldn't\n",
    "be accessed. We can filter down to just the attributes we are interested in as follows:"
   ]
  },
  {
   "cell_type": "code",
   "execution_count": null,
   "metadata": {},
   "outputs": [],
   "source": [
    "\n",
    "dir(phrase)"
   ]
  },
  {
   "cell_type": "code",
   "execution_count": null,
   "metadata": {},
   "outputs": [],
   "source": [
    "[i for i in dir(phrase) if not i.startswith(\"_\")]\n"
   ]
  },
  {
   "cell_type": "markdown",
   "metadata": {},
   "source": [
    "### Lists\n",
    "---\n",
    "\n",
    "References: \n",
    "- https://www.digitalocean.com/community/tutorials/understanding-lists-in-python-3\n",
    "- https://docs.python.org/3/tutorial/introduction.html#lists\n",
    "- https://docs.python.org/3/tutorial/datastructures.html#more-on-lists\n"
   ]
  },
  {
   "cell_type": "markdown",
   "metadata": {},
   "source": [
    "- Lists are the workhorse data structure in Python, and are used everywhere for multiple purposes. \n",
    "- A list is a mutable, or changeable, ordered sequence of elements.\n",
    "- Lists elements can be accessed using (0-based) indices just as we did with strings.\n",
    "- Lists can contain mixed types, but this is generally not a good practice. \n"
   ]
  },
  {
   "cell_type": "code",
   "execution_count": null,
   "metadata": {},
   "outputs": [],
   "source": [
    "\n",
    "# Creating a list of integers.\n",
    "list_of_ints = [2, 4, 6, 8, 10]\n",
    "\n",
    "# Creating a list of strings.\n",
    "list_of_strs = [\"Help!\", \"Rubber Soul\", \"Revolver\", \"Sgt. Pepper\", \"Magical Mystery Tour\"]\n",
    "\n",
    "# Creating a list of floats.\n",
    "list_of_floats = [2.1, 4.2, 8.4, 16.8, 33.6, 67.2]\n",
    "\n",
    "\n",
    "# Print the type of list_of_ints, list_of_strs and list_of_floats,\n",
    "# along with the type of the first element of each.\n",
    "print(f\"type(list_of_ints): {type(list_of_ints)}\")\n",
    "print(f\"type(list_of_ints[0]): {type(list_of_ints[0])}\\n\")\n",
    "\n",
    "print(f\"type(list_of_strs): {type(list_of_strs)}\")\n",
    "print(f\"type(list_of_strs[0]): {type(list_of_strs[0])}\\n\")\n",
    "\n",
    "print(f\"type(list_of_floats): {type(list_of_floats)}\")\n",
    "print(f\"type(list_of_floats[0]): {type(list_of_floats[0])}\")\n",
    "\n",
    "\n"
   ]
  },
  {
   "cell_type": "markdown",
   "metadata": {},
   "source": [
    "As we did with strings, we can list all the methods associated with a list by calling `dir(object)`. We filter out\n",
    "all the special methods to list only public attributes:"
   ]
  },
  {
   "cell_type": "code",
   "execution_count": null,
   "metadata": {},
   "outputs": [],
   "source": [
    "\n",
    "[i for i in dir(albums) if not i.startswith(\"_\")]\n"
   ]
  },
  {
   "cell_type": "code",
   "execution_count": null,
   "metadata": {},
   "outputs": [],
   "source": [
    "\n",
    "# `append` adds a new element to the list. Will add new element to end of list.\n",
    "albums = [\"Help!\", \"Rubber Soul\", \"Revolver\", \"Sgt. Pepper\", \"Magical Mystery Tour\"]\n",
    "\n",
    "\n",
    "new_album = \"The White Album\"\n",
    "\n",
    "print(f\"albums before adding new_album: {albums}\")\n",
    "\n",
    "albums.append(new_album)\n",
    "\n",
    "print(f\"albums after adding new_album : {albums}\")\n",
    "\n"
   ]
  },
  {
   "cell_type": "code",
   "execution_count": null,
   "metadata": {},
   "outputs": [],
   "source": [
    "\n",
    "# `clear` removes all items from the list.\n",
    "albums.clear()\n"
   ]
  },
  {
   "cell_type": "code",
   "execution_count": null,
   "metadata": {},
   "outputs": [],
   "source": [
    "\n",
    "# count returns the number of occurrences of an element. \n",
    "album_years = [1965, 1965, 1966, 1967, 1967, 1968]\n",
    "\n",
    "album_years.count(1967)\n"
   ]
  },
  {
   "cell_type": "code",
   "execution_count": null,
   "metadata": {},
   "outputs": [],
   "source": [
    "\n",
    "# index gives the index of the specified value.\n",
    "album = \"Revolver\"\n",
    "\n",
    "albums.index(album)\n"
   ]
  },
  {
   "cell_type": "code",
   "execution_count": null,
   "metadata": {},
   "outputs": [],
   "source": [
    "\n",
    "# index will raises a ValueError if the value is not present.\n",
    "albums.index(\"Abbey Road\")\n"
   ]
  },
  {
   "cell_type": "code",
   "execution_count": null,
   "metadata": {},
   "outputs": [],
   "source": [
    "\n",
    "# remove removes only the first occurrence of value. In-place operation. \n",
    "\n",
    "print(f\"album_years before calling remove: {album_years}\")\n",
    "\n",
    "album_years.remove(1967)\n",
    "\n",
    "print(f\"album_years after calling remove : {album_years}\")\n",
    "\n",
    "\n"
   ]
  },
  {
   "cell_type": "code",
   "execution_count": null,
   "metadata": {},
   "outputs": [],
   "source": [
    "\n",
    "# reverse returns the reversed sequence. Also an in-place operator. \n",
    "print(f\"album_years before calling reverse: {album_years}\")\n",
    "\n",
    "album_years.reverse()\n",
    "\n",
    "print(f\"album_years after calling reverse: {album_years}\")\n",
    "\n"
   ]
  },
  {
   "cell_type": "code",
   "execution_count": null,
   "metadata": {},
   "outputs": [],
   "source": [
    "\n",
    "\n"
   ]
  },
  {
   "cell_type": "code",
   "execution_count": null,
   "metadata": {},
   "outputs": [],
   "source": [
    "\n",
    "# sort orders the list in-place. \n",
    "print(f\"album_years before calling sort: {album_years}\")\n",
    "\n",
    "album_years.sort()\n",
    "\n",
    "print(f\"album_years after calling sort : {album_years}\")\n"
   ]
  },
  {
   "cell_type": "code",
   "execution_count": null,
   "metadata": {},
   "outputs": [],
   "source": [
    "# Note that sort/reverse/remove are in-place operations, so we do not assign \n",
    "# it to a new variable. DO NOT DO THIS!!!\n",
    "rev_album_years = album_years.reverse()\n",
    "\n",
    "print(f\"rev_album_years: {rev_album_years}\")\n",
    "print(f\"type(rev_album_years): {type(rev_album_years)}\")"
   ]
  },
  {
   "cell_type": "code",
   "execution_count": null,
   "metadata": {},
   "outputs": [],
   "source": [
    "\n",
    "# pop removes the element at the specified index. If no index is specified,\n",
    "# the last element will be removed from the list and returned.\n",
    "\n",
    "print(f\"album_years before calling pop: {album_years}\")\n",
    "\n",
    "last_element = album_years.pop()\n",
    "\n",
    "print(f\"album_years after calling pop : {album_years}\")\n",
    "\n",
    "\n"
   ]
  },
  {
   "cell_type": "code",
   "execution_count": null,
   "metadata": {},
   "outputs": [],
   "source": [
    "\n",
    "# Two lists can be combined to create a new list using `+`.\n",
    "later_albums = [\"Yellow Submarine\", \"Abbey Road\", \"Let it Be\"]\n",
    "\n",
    "# Combine albums with later albums\n",
    "all_albums = albums + later_albums\n",
    "\n",
    "print(f\"all_albums: {all_albums}\")\n"
   ]
  },
  {
   "cell_type": "code",
   "execution_count": null,
   "metadata": {},
   "outputs": [],
   "source": [
    "\n",
    "# len gives us the length of the list.\n",
    "albums_length = len(all_albums)\n",
    "print(f\"lengh of all_albums: {albums_length}\")\n",
    "\n"
   ]
  },
  {
   "cell_type": "code",
   "execution_count": null,
   "metadata": {},
   "outputs": [],
   "source": [
    "\n",
    "# Access the first element of albums:\n",
    "albums[0]"
   ]
  },
  {
   "cell_type": "code",
   "execution_count": null,
   "metadata": {},
   "outputs": [],
   "source": [
    "\n",
    "# Access the last element of albums:\n",
    "albums[-1]\n"
   ]
  },
  {
   "cell_type": "code",
   "execution_count": null,
   "metadata": {},
   "outputs": [],
   "source": [
    "\n",
    "# Computing the sum, min and max of a list of values.\n",
    "vals = [2.2, 7.8, 9.1, 5.6]\n",
    "\n",
    "sum_of_vals = sum(vals)\n",
    "min_of_vals = min(vals)\n",
    "max_of_vals = max(vals)\n",
    "\n",
    "print(f\"sum_of_vals: {sum_of_vals}\")\n",
    "print(f\"min_of_vals: {min_of_vals}\")\n",
    "print(f\"max_of_vals: {max_of_vals}\")"
   ]
  },
  {
   "cell_type": "code",
   "execution_count": null,
   "metadata": {},
   "outputs": [],
   "source": [
    "\n",
    "# To compute the average, we need to import mean from the statistics library.\n",
    "from statistics import mean\n",
    "\n",
    "mean_of_vals = mean(vals)\n",
    "\n",
    "print(f\"mean_of_vals: {mean_of_vals}\")"
   ]
  },
  {
   "cell_type": "markdown",
   "metadata": {},
   "source": [
    "### `range`"
   ]
  },
  {
   "cell_type": "code",
   "execution_count": 163,
   "metadata": {},
   "outputs": [
    {
     "data": {
      "text/plain": [
       "range(0, 11)"
      ]
     },
     "execution_count": 163,
     "metadata": {},
     "output_type": "execute_result"
    }
   ],
   "source": [
    "\n",
    "# range creates an object that returns a sequence of integers.\n",
    "# Calling range by itself will not yield the list of numbers:\n",
    "range(11)\n"
   ]
  },
  {
   "cell_type": "code",
   "execution_count": 164,
   "metadata": {},
   "outputs": [
    {
     "data": {
      "text/plain": [
       "[0, 1, 2, 3, 4, 5, 6, 7, 8, 9, 10]"
      ]
     },
     "execution_count": 164,
     "metadata": {},
     "output_type": "execute_result"
    }
   ],
   "source": [
    "\n",
    "# In order to obtain the list of actual values created by range, you \n",
    "# must convert range to a list:\n",
    "list(range(11))\n",
    "\n"
   ]
  },
  {
   "cell_type": "code",
   "execution_count": 166,
   "metadata": {},
   "outputs": [
    {
     "name": "stdout",
     "output_type": "stream",
     "text": [
      "0\n",
      "1\n",
      "2\n",
      "3\n",
      "4\n",
      "5\n",
      "6\n",
      "7\n",
      "8\n",
      "9\n"
     ]
    }
   ],
   "source": [
    "\n",
    "# Note that as commonly used in iteration, it isn't necessary to convert range \n",
    "# to a list. We can iterate over the range object directly, and it will provide \n",
    "# the elements as needed:\n",
    "\n",
    "# Not necessary to convert range to list, but will still work. \n",
    "for i in list(range(10)): \n",
    "    print(i) "
   ]
  },
  {
   "cell_type": "code",
   "execution_count": 167,
   "metadata": {},
   "outputs": [
    {
     "name": "stdout",
     "output_type": "stream",
     "text": [
      "0\n",
      "1\n",
      "2\n",
      "3\n",
      "4\n",
      "5\n",
      "6\n",
      "7\n",
      "8\n",
      "9\n"
     ]
    }
   ],
   "source": [
    "\n",
    "# Correct way to use range in for loop: No need to convert to list:\n",
    "for i in range(10):\n",
    "    print(i)"
   ]
  },
  {
   "cell_type": "code",
   "execution_count": 159,
   "metadata": {},
   "outputs": [
    {
     "data": {
      "text/plain": [
       "[0, 1, 2, 3, 4, 5, 6, 7, 8, 9, 10]"
      ]
     },
     "execution_count": 159,
     "metadata": {},
     "output_type": "execute_result"
    }
   ],
   "source": [
    "\n",
    "# Generate a sequence of numbers 0 - 10:\n",
    "list(range(11))\n"
   ]
  },
  {
   "cell_type": "code",
   "execution_count": 160,
   "metadata": {},
   "outputs": [
    {
     "data": {
      "text/plain": [
       "[0, 2, 4, 6, 8, 10, 12, 14, 16, 18, 20]"
      ]
     },
     "execution_count": 160,
     "metadata": {},
     "output_type": "execute_result"
    }
   ],
   "source": [
    "\n",
    "# Generate a sequence of numbers from 0-20 by 2:\n",
    "list(range(0, 21, 2))"
   ]
  },
  {
   "cell_type": "code",
   "execution_count": 162,
   "metadata": {},
   "outputs": [
    {
     "data": {
      "text/plain": [
       "[20, 18, 16, 14, 12, 10, 8, 6, 4, 2, 0]"
      ]
     },
     "execution_count": 162,
     "metadata": {},
     "output_type": "execute_result"
    }
   ],
   "source": [
    "\n",
    "# Generate a sequence from 20 to 0 by 2:\n",
    "list(range(20, -1, -2))\n"
   ]
  },
  {
   "cell_type": "code",
   "execution_count": null,
   "metadata": {},
   "outputs": [],
   "source": [
    "\n",
    "# Must use integers with range: Attempting to use floats will err:\n",
    "range(1.1, 10.7)\n"
   ]
  },
  {
   "cell_type": "markdown",
   "metadata": {},
   "source": [
    "Reason we don't convert range to list for large sequences (task manager demo)."
   ]
  },
  {
   "cell_type": "code",
   "execution_count": 6,
   "metadata": {},
   "outputs": [],
   "source": [
    "\n",
    "# Initializing range object. \n",
    "a = range(500_000_000)"
   ]
  },
  {
   "cell_type": "code",
   "execution_count": 7,
   "metadata": {},
   "outputs": [],
   "source": [
    "\n",
    "# Converting range object to list for large sequence. \n",
    "b = list(range(500_000_000))\n"
   ]
  }
 ],
 "metadata": {
  "kernelspec": {
   "display_name": "Python 3",
   "language": "python",
   "name": "python3"
  },
  "language_info": {
   "codemirror_mode": {
    "name": "ipython",
    "version": 3
   },
   "file_extension": ".py",
   "mimetype": "text/x-python",
   "name": "python",
   "nbconvert_exporter": "python",
   "pygments_lexer": "ipython3",
   "version": "3.12.0"
  }
 },
 "nbformat": 4,
 "nbformat_minor": 2
}
