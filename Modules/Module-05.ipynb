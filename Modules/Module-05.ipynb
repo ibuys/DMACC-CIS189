{
 "cells": [
  {
   "cell_type": "markdown",
   "metadata": {},
   "source": [
    "## CIS189 Module \\#5 (2023-02-14)\n",
    "---"
   ]
  },
  {
   "cell_type": "markdown",
   "metadata": {},
   "source": [
    "**This Evening's Agenda**:\n",
    "\n",
    "- Edmond Halley: Thinking outside the box\n",
    "- Module 3 grade distributions\n",
    "- Review of IDOT mini-project solution\n",
    "- ~~Prior assignment solutions~~ (posted to GitHub)\n",
    "- ~~Practice problem solutions~~ (posted to GitHub)\n",
    "- ~~Python Module of the Week~~\n",
    "- Recap of Module \\#4\n",
    "- Buddy debugging\n",
    "- Iteration introduction\n",
    "- Loop like a native: while, for, iterators, generators https://www.youtube.com/watch?v=EnSu9hHGq5o&t=157s\n",
    "    - In video, Ned uses `print value`. This is no longer valid syntax. Whenever you see `print value`, in your mind, replace it with `print(value)` \n",
    "---\n",
    "\n",
    "\n",
    "<br>\n"
   ]
  },
  {
   "cell_type": "markdown",
   "metadata": {},
   "source": [
    "### Review from Module 4:\n",
    "\n",
    "1. `try/except` can be used to catch errors that might be thrown during our program. This allows the code to continue running instead of crashing. \n",
    "\n",
    "2. Two broad types of functions: What do we call them? What is the difference?\n",
    "\n",
    "\n",
    "3. Function declaration checklist:\n",
    "    - start with `def`\n",
    "    - Supply a function name\n",
    "    - Add parens, optionally with function arguments\n",
    "    - Add colon after closing paren\n",
    "    - Include docstring with summary, Parameters and Returns sections (indented 4 spaces)\n",
    "    - Add function body (indented four spaces to start)\n",
    "    - Add return statement for fruitful functions or print for void functions\n",
    "    \n",
    "![](../Misc/Images/functions.png)\n"
   ]
  },
  {
   "cell_type": "markdown",
   "metadata": {},
   "source": [
    "### Iteration in Python"
   ]
  },
  {
   "cell_type": "markdown",
   "metadata": {},
   "source": [
    "**Example using a `while` loop.**\n",
    "\n",
    "The mathematician Ramanujan found an infinite series that can be used to generate a numerical approximation of $\\frac{1}{\\pi}$:\n",
    "\n",
    "$$\n",
    "\\frac{1}{\\pi} = \\frac{2\\sqrt{2}}{9801} \\sum_{k=0}^{\\infty} \\frac{(4k)!(1103 + 26390k)}{(k!)^{4}396^{4k}}\n",
    "$$\n",
    "\n",
    "Write a function called `estimate_pi` that uses the formula to compute and return an estimate of $\\pi$. Continue iterating until the last term is smaller than $10^{-15}$ (in Python, `1e-15`). Return the approximation.\n"
   ]
  }
 ],
 "metadata": {
  "kernelspec": {
   "display_name": "Python 3",
   "language": "python",
   "name": "python3"
  },
  "language_info": {
   "codemirror_mode": {
    "name": "ipython",
    "version": 3
   },
   "file_extension": ".py",
   "mimetype": "text/x-python",
   "name": "python",
   "nbconvert_exporter": "python",
   "pygments_lexer": "ipython3",
   "version": "3.12.0"
  }
 },
 "nbformat": 4,
 "nbformat_minor": 2
}
