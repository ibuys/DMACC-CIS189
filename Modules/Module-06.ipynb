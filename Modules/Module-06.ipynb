{
 "cells": [
  {
   "cell_type": "markdown",
   "metadata": {},
   "source": [
    "## CIS189 Module \\#6 (2023-02-21)\n",
    "---\n",
    "\n",
    "**This Evening's Agenda**:\n",
    "\n",
    "- Edmond Halley: Thinking outside the box\n",
    "- Module 3 grade distributions\n",
    "- Review of IDOT mini-project solution\n",
    "- ~~Prior assignment solutions~~ (posted to GitHub)\n",
    "- ~~Practice problem solutions~~ (posted to GitHub)\n",
    "- ~~Python Module of the Week~~\n",
    "- Recap of Module \\#4\n",
    "- Buddy debugging\n",
    "- Iteration introduction\n",
    "- Loop like a native: while, for, iterators, generators https://www.youtube.com/watch?v=EnSu9hHGq5o&t=157s\n",
    "    - In video, Ned uses `print value`. This is no longer valid syntax. Whenever you see `print value`, in your mind, replace it with `print(value)` \n",
    "---\n",
    "\n",
    "\n",
    "<br>\n"
   ]
  },
  {
   "cell_type": "markdown",
   "metadata": {},
   "source": [
    "\n",
    "### Functions with Variable Arguments\n",
    "\n",
    "\n",
    "There are two types of variable arguments for functions in Python: positional and keyword.\n",
    "\n",
    "#### Variable positional arguments\n",
    "\n",
    "Variable positional arguments in functions allow you to pass an arbitrary number of arguments to a function without explicitly defining each one. This feature is particularly useful when you want your function to handle a varying number of arguments at runtime. Variable positional arguments are denoted by an asterisk (`*`) before the parameter name in the function definition.\n",
    "\n",
    "```python\n",
    "def my_function(*args):\n",
    "    for arg in args:\n",
    "        print(arg)\n",
    "\n",
    "my_function(1, 2, 3)  # Output: 1 2 3\n",
    "```\n",
    "\n",
    "In this example, `my_function` can accept any number of positional arguments, which are collected into a tuple named `args`. You can then iterate over this tuple to access each argument individually.\n",
    "\n",
    "Variable positional arguments are commonly used when you want to create more flexible and generic functions. They allow functions to accept an arbitrary number of arguments, which can simplify the function call syntax and make the code more readable. For example, built-in functions like `print()` use variable positional arguments to handle various input types and print them accordingly.\n",
    "\n",
    "```python\n",
    "print(1, 2, 3)  # Output: 1 2 3\n",
    "print(\"Hello\", \"World\")  # Output: Hello World\n",
    "```\n",
    "\n",
    "By leveraging variable positional arguments, you can write functions that accommodate different use cases and handle dynamic data more effectively. However, it's important to use them judiciously and provide clear documentation to indicate how the function expects its arguments to be passed. Understanding how to work with variable positional arguments is essential for building versatile and scalable Python functions.\n",
    "\n",
    "#### Variable keyword arguments\n",
    "\n",
    "Functions with variable keyword arguments, often denoted by `**kwargs` in Python, provide a flexible way to handle arbitrary named parameters within a function. This feature allows developers to pass an arbitrary number of keyword arguments to a function, which can be particularly useful when designing functions with a variable number of parameters or when creating generic functions that need to accommodate different sets of arguments. \n",
    "\n",
    "In Python, when defining a function, you can use the `**kwargs` syntax to collect any additional keyword arguments that are not explicitly named in the function definition. This `kwargs` parameter essentially gathers these extra keyword arguments into a dictionary within the function's scope. Here's a basic example:\n",
    "\n",
    "\n",
    "```python\n",
    "def example_function(**kwargs):\n",
    "    for key, value in kwargs.items():\n",
    "        print(f\"{key}: {value}\")\n",
    "\n",
    "# Usage\n",
    "example_function(a=1, b=2, c=3)\n",
    "```\n",
    "\n",
    "In this example, `**kwargs` captures the keyword arguments `a=1, b=2, and c=3` into a dictionary within the `example_function` scope. The function then iterates over this dictionary, printing each key-value pair.\n",
    "\n",
    "\n",
    "\n",
    "\n",
    "#### Benefits of Variable Keyword Arguments:\n",
    "\n",
    "- Flexibility: Functions with variable keyword arguments can accept a varying number of named parameters, providing flexibility in function usage.\n",
    "\n",
    "- Generic Functions: They allow you to create generic functions that can handle different sets of arguments without needing to define each parameter explicitly.\n",
    "\n",
    "- Extensibility: Adding new keyword arguments in the future does not require modifying the function signature, making code more extensible.\n",
    "\n",
    "- Readability: When used appropriately, `**kwargs` can improve the readability of function calls by providing named parameters that enhance code clarity.\n",
    "\n",
    "\n",
    "#### Common Use Cases:\n",
    "\n",
    "- Configurable Functions: Functions that require a variety of configuration options can use `**kwargs` to accept a flexible set of parameters.\n",
    "\n",
    "- Decorator Functions: Decorators often use **kwargs to pass arguments to wrapped functions transparently.\n",
    "\n",
    "- API Wrappers: Functions wrapping external APIs may use **kwargs to pass options and parameters directly to the API calls.\n",
    "\n"
   ]
  },
  {
   "cell_type": "markdown",
   "metadata": {},
   "source": [
    "\n",
    "### Decorators\n",
    "\n",
    "Decorators in Python are a powerful feature that allows you to modify or extend the behavior of functions or classes without directly modifying their code. Essentially, decorators are functions that wrap other functions or methods, enabling you to add functionality to them dynamically.\n",
    "\n",
    "Here's a brief explanation of decorators with code examples:\n"
   ]
  },
  {
   "cell_type": "code",
   "execution_count": 1,
   "metadata": {},
   "outputs": [
    {
     "name": "stdout",
     "output_type": "stream",
     "text": [
      "Something is happening before the function is called.\n",
      "Hello!\n",
      "Something is happening after the function is called.\n"
     ]
    }
   ],
   "source": [
    "\n",
    "# Example 1: Simple decorator without arguments\n",
    "def my_decorator(func):\n",
    "    def wrapper():\n",
    "        print(\"Something is happening before the function is called.\")\n",
    "        func()\n",
    "        print(\"Something is happening after the function is called.\")\n",
    "    return wrapper\n",
    "\n",
    "\n",
    "@my_decorator\n",
    "def say_hello():\n",
    "    print(\"Hello!\")\n",
    "\n",
    "say_hello()"
   ]
  },
  {
   "cell_type": "markdown",
   "metadata": {},
   "source": [
    "In this example, `my_decorator` is a function that takes another function `func` as an argument and returns a new function `wrapper` that wraps around `func`. The `@my_decorator` syntax above `say_hello` is a shorthand for `say_hello = my_decorator(say_hello)`, which applies the decorator to the say_hello function.\n",
    "\n",
    "Decorators can also take arguments, allowing for more flexibility in their usage. Here's an example:"
   ]
  },
  {
   "cell_type": "code",
   "execution_count": 9,
   "metadata": {},
   "outputs": [
    {
     "name": "stdout",
     "output_type": "stream",
     "text": [
      "Hello, Liv strawberry!\n",
      "Hello, Liv strawberry!\n",
      "Hello, Liv strawberry!\n"
     ]
    }
   ],
   "source": [
    "# Example 2: Decorator with arguments\n",
    "def repeat(num_times):\n",
    "    def decorator(func):\n",
    "        def wrapper(*args, **kwargs):\n",
    "            for _ in range(num_times):\n",
    "                result = func(*args, **kwargs)\n",
    "            return result\n",
    "        return wrapper\n",
    "    return decorator\n",
    "\n",
    "\n",
    "\n",
    "@repeat(num_times=3)\n",
    "def greet(name):\n",
    "    print(f\"Hello, {name}!\")\n",
    "\n",
    "greet(\"Alice\")\n",
    "\n",
    "\n"
   ]
  },
  {
   "cell_type": "markdown",
   "metadata": {},
   "source": [
    "In this example, repeat is a decorator factory that returns a decorator based on the number of times specified. The @repeat(num_times=3) syntax applies the decorator to the greet function, causing it to execute three times when called with the argument \"Alice\".\n",
    "\n",
    "Decorators are frequently used to get the runtime of a separate function:"
   ]
  },
  {
   "cell_type": "code",
   "execution_count": 12,
   "metadata": {},
   "outputs": [
    {
     "name": "stdout",
     "output_type": "stream",
     "text": [
      "Running function sleeper\n",
      "Positional arguments: (4,)\n",
      "Keyword arguments: {}\n",
      "Total runtime: 5.002670049667358\n"
     ]
    }
   ],
   "source": [
    "\n",
    "import time\n",
    "\n",
    "\n",
    "def time_it(func):\n",
    "    def wrapper(*args, **kwargs):\n",
    "        print(f\"Running function {func.__name__}\")\n",
    "        print(f\"Positional arguments: {args}\")\n",
    "        print(f\"Keyword arguments: {kwargs}\")\n",
    "        t_init = time.time()\n",
    "        result = func(5)\n",
    "        t_total = time.time() - t_init\n",
    "        print(f\"Total runtime: {t_total}\")\n",
    "        return result\n",
    "    return wrapper\n",
    "       \n",
    "\n",
    "@time_it\n",
    "def sleeper(t):\n",
    "    \"\"\"\n",
    "    Sleep for t seconds.\n",
    "    \"\"\"\n",
    "    time.sleep(t)\n",
    "    return(t)\n",
    "\n",
    "v = sleeper(4)\n"
   ]
  },
  {
   "cell_type": "markdown",
   "metadata": {},
   "source": [
    "### Unit Testing\n",
    "\n",
    "Example unit tests for code in Module 6."
   ]
  },
  {
   "cell_type": "code",
   "execution_count": null,
   "metadata": {},
   "outputs": [],
   "source": [
    "\n",
    "import unittest\n",
    "from functionfunctionfunction.score_function import score_validate \n",
    "\n",
    "\n",
    "class MyTestCase(unittest.TestCase):\n",
    "\n",
    "    def test_valid_score(self):\n",
    "        # Arrange\n",
    "        expected = 'GoodTest: 70'\n",
    "        # Act\n",
    "        actual = score_validate('GoodTest', 70)\n",
    "        # Assert\n",
    "        self.assertEqual(expected, actual)\n",
    "\n",
    "    def test_below_range_score(self):\n",
    "        # Arrange\n",
    "        expected = 'BadTest: Invalid test score!'\n",
    "        # Act\n",
    "        actual = score_validate('BadTest', -10)\n",
    "        # Assert\n",
    "        self.assertEqual(expected, actual)\n",
    "\n",
    "    def test_above_range_score(self):\n",
    "        # Arrange\n",
    "        expected = 'BadTest: Invalid test score!'\n",
    "        # Act\n",
    "        actual = score_validate('BadTest', 107)\n",
    "        # Assert\n",
    "        self.assertEqual(expected, actual)\n",
    "\n",
    "    def test_exception_thrown(self):\n",
    "        # Arrange\n",
    "        # Act\n",
    "        # Assert\n",
    "        with self.assertRaises(ValueError):\n",
    "            score_validate('BadTest', 'car')\n",
    "\n",
    "if __name__ == '__main__':\n",
    "    unittest.main()"
   ]
  }
 ],
 "metadata": {
  "kernelspec": {
   "display_name": "Python 3",
   "language": "python",
   "name": "python3"
  },
  "language_info": {
   "codemirror_mode": {
    "name": "ipython",
    "version": 3
   },
   "file_extension": ".py",
   "mimetype": "text/x-python",
   "name": "python",
   "nbconvert_exporter": "python",
   "pygments_lexer": "ipython3",
   "version": "3.12.0"
  }
 },
 "nbformat": 4,
 "nbformat_minor": 2
}
