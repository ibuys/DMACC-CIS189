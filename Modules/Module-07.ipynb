{
 "cells": [
  {
   "cell_type": "markdown",
   "metadata": {},
   "source": [
    "## CIS189 Module \\#7 (2023-02-28)\n",
    "---\n",
    "\n",
    "**This Evening's Agenda**:\n",
    "- Prior module grade distributions\n",
    "- Big Book of Small Python Projects: https://inventwithpython.com/bigbookpython/\n",
    "- In-class assignment\n",
    "- Brief review of module 7 content (file I/O, tuples)\n",
    "---\n",
    "\n",
    "<br>\n"
   ]
  },
  {
   "cell_type": "markdown",
   "metadata": {},
   "source": [
    "### Tuples\n",
    "\n",
    "Tuples are ordered, immutable collections of elements in Python. They are similar to lists, but they are unchangeable once created. This means you cannot add, remove, or modify elements in a tuple.\n",
    "\n",
    "Here's a breakdown of key points about tuples:\n",
    "\n",
    "- Creation: Tuples are enclosed in parentheses `()` and separated by commas.\n",
    "- Mutability: They are immutable, meaning their content cannot be changed after creation.\n",
    "- Elements: Can hold elements of different data types (integers, strings, booleans, etc.)\n",
    "- Indexing: Elements can be accessed using their index, starting from 0.\n",
    "\n",
    "\n",
    "Creating a simple tuple:\n"
   ]
  },
  {
   "cell_type": "code",
   "execution_count": 3,
   "metadata": {},
   "outputs": [
    {
     "name": "stdout",
     "output_type": "stream",
     "text": [
      "<class 'tuple'>\n",
      "(1, 'apple', 3.14)\n"
     ]
    }
   ],
   "source": [
    "\n",
    "tt = (1, \"apple\", 3.14)\n",
    "\n",
    "print(type(tt))\n",
    "print(tt)\n"
   ]
  },
  {
   "cell_type": "markdown",
   "metadata": {},
   "source": [
    "Accessing elements using index:"
   ]
  },
  {
   "cell_type": "code",
   "execution_count": 4,
   "metadata": {},
   "outputs": [
    {
     "name": "stdout",
     "output_type": "stream",
     "text": [
      "apple\n"
     ]
    }
   ],
   "source": [
    "fruit = tt[1]  # Accessing the second element.\n",
    "print(fruit)   # Output: apple."
   ]
  },
  {
   "cell_type": "markdown",
   "metadata": {},
   "source": [
    "Tuples with single element:"
   ]
  },
  {
   "cell_type": "code",
   "execution_count": 6,
   "metadata": {},
   "outputs": [
    {
     "data": {
      "text/plain": [
       "('hello',)"
      ]
     },
     "execution_count": 6,
     "metadata": {},
     "output_type": "execute_result"
    }
   ],
   "source": [
    "\n",
    "one_element = (\"hello\",)  # Note the comma after the element.\n",
    "\n",
    "one_element\n"
   ]
  },
  {
   "cell_type": "markdown",
   "metadata": {},
   "source": [
    "Attempting to update an element of a tuple:"
   ]
  },
  {
   "cell_type": "code",
   "execution_count": null,
   "metadata": {},
   "outputs": [],
   "source": [
    "\n",
    "tt = (\"rice\", \"apples\", \"cherries\", \"broth\")\n",
    "\n",
    "tt[0] = \"cabbage\" # TypeError\n",
    "\n"
   ]
  },
  {
   "cell_type": "markdown",
   "metadata": {},
   "source": [
    "Things to Remember:\n",
    "\n",
    "- Unlike lists, attempting to modify a tuple element will result in an error.\n",
    "- Tuples can be used as dictionary keys since they are immutable and hashable (meaning they can be used as unique identifiers in dictionaries).\n",
    "- Tuples are often used for representing fixed datasets or configurations.\n"
   ]
  }
 ],
 "metadata": {
  "kernelspec": {
   "display_name": "Python 3",
   "language": "python",
   "name": "python3"
  },
  "language_info": {
   "codemirror_mode": {
    "name": "ipython",
    "version": 3
   },
   "file_extension": ".py",
   "mimetype": "text/x-python",
   "name": "python",
   "nbconvert_exporter": "python",
   "pygments_lexer": "ipython3",
   "version": "3.12.0"
  }
 },
 "nbformat": 4,
 "nbformat_minor": 2
}
