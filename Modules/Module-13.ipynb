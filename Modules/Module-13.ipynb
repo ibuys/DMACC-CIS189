{
 "cells": [
  {
   "cell_type": "markdown",
   "metadata": {},
   "source": [
    "\n",
    "## Spring 2024 - CIS189 Module \\#14 (2023-04-17)\n",
    "---\n",
    "\n",
    "**This Evening's Agenda**:\n",
    "- Prior module grade distributions\n",
    "- [The Big Book of Small Python Projects](https://inventwithpython.com/bigbookpython/)\n",
    "- Quick discussion of final projects\n",
    "- Python Standard Library Quick Hits\n"
   ]
  },
  {
   "cell_type": "markdown",
   "metadata": {},
   "source": [
    "<br>\n",
    "\n",
    "### Python Standard Library Quick Hits\n",
    "\n",
    "In the class, we've worked with the standard library extensively, but there are many libraries we haven't had a chance to work with. THis week, we'll discuss a few that might be useful for various tasks if you use Python beyond this class (which you definitely should!)\n",
    "\n",
    "The full list of standard library packages is available here: \n",
    "\n",
    "- https://docs.python.org/3/py-modindex.html"
   ]
  },
  {
   "cell_type": "markdown",
   "metadata": {},
   "source": [
    "\n",
    "<br>\n",
    "\n",
    "### [1. pickle](https://docs.python.org/3/library/pickle.html#module-pickle)\n",
    "\n",
    "Python's pickle module is used for serializing and deserializing objects. Serialization, often referred to as \"pickling,\" involves converting a Python object into a byte stream, and deserialization, known as \"unpickling,\" is the inverse operation, converting a byte stream back into a Python object.\n",
    "\n",
    "This allows us to save virtually any Python object (dict, list, tuple, set) to file, which can be read in by other potential users or at some later date.\n",
    "\n",
    "Reasons to serialize objects:\n",
    "\n",
    "- Saving complicated data types to a file, so that programs can resume where they left off (persistence).\n",
    "- Sending Python data over a TCP/IP connection between processes or machines (data interchange).\n",
    "- Caching or saving state between program executions.\n",
    "\n",
    "<br>\n",
    "\n",
    "In the next cell, we create a list, add elements to it then write it to a pickle file (usually has a .pkl extension):\n",
    "\n"
   ]
  },
  {
   "cell_type": "code",
   "execution_count": null,
   "metadata": {},
   "outputs": [],
   "source": [
    "\n",
    "import pickle\n",
    "\n",
    "# Create an arbitrary list.\n",
    "vals = [\"hey\", \"hey\", \"my\", \"my\"]\n",
    "\n",
    "\n",
    "# Store vals list in a .pkl file in current working directory. \n",
    "with open(\"vals-list.pkl\", \"wb\") as fpkl:\n",
    "    pickle.dump(vals, fpkl, pickle.HIGHEST_PROTOCOL)\n"
   ]
  },
  {
   "cell_type": "markdown",
   "metadata": {},
   "source": [
    "\n",
    "<br>\n",
    "\n",
    "Assume we want to load the `vals` list into a new Python session, or allow someone else to access it. Here's how to load a serialized object back into Python using pickle:\n"
   ]
  },
  {
   "cell_type": "code",
   "execution_count": null,
   "metadata": {},
   "outputs": [],
   "source": [
    "\n",
    "with open(\"vals-list.pkl\", \"rb\") as fpkl:\n",
    "    vals = pickle.load(fpkl)\n",
    "\n",
    "vals\n"
   ]
  },
  {
   "cell_type": "code",
   "execution_count": null,
   "metadata": {},
   "outputs": [],
   "source": [
    "\n",
    "# Add more elements to vals, and re-serialize.\n",
    "vals = vals + [\"rock n roll\", \"can\", \"never\", \"die\"]\n",
    "\n",
    "print(vals)\n",
    "\n",
    "# Serialize updated vals list.\n",
    "with open(\"vals-list.pkl\", \"wb\") as fpkl:\n",
    "    pickle.dump(vals, fpkl, pickle.HIGHEST_PROTOCOL)\n"
   ]
  },
  {
   "cell_type": "markdown",
   "metadata": {},
   "source": [
    "\n",
    "<br>\n",
    "\n",
    "### [2. hashlib](https://docs.python.org/3/library/hashlib.html#module-hashlib)\n",
    "\n",
    "Hash functions are cryptographic one-way functions that take input data (of any size) and produce a fixed-size string of bytes, typically referred to as a hash code, hash digest or hash. \n",
    "\n",
    "\n",
    "**Hash function characteristics:**\n",
    "\n",
    "- The same input will always produce the same output.\n",
    "\n",
    "- A tiny change to the input data (like changing one bit) should change the hash so extensively that the new hash appears uncorrelated with the old hash.\n",
    "\n",
    "- It should be difficult to find two different inputs that produce the same output hash (collision resistance).\n",
    "\n",
    "<br>\n",
    "\n",
    "**Common hash functions:**\n",
    "\n",
    "- MD5: Once widely used, now considered insecure due to vulnerabilities allowing for collision attacks.\n",
    "- SHA-1: Also no longer considered secure against well-funded attackers.\n",
    "- SHA-256 and SHA-3: Part of the SHA-2 and SHA-3 families, these are currently recommended for security due to their resistance to known attack methods.\n",
    "\n",
    "\n",
    "**Uses:**\n",
    "\n",
    "- Quick comparison of arbitrary objects\n",
    "- Data integrity\n",
    "- Storing passwords\n",
    "\n",
    "<br>\n",
    "\n",
    "List available hashing algorithms:"
   ]
  },
  {
   "cell_type": "code",
   "execution_count": null,
   "metadata": {},
   "outputs": [],
   "source": [
    "\n",
    "import hashlib\n",
    "\n",
    "# List available algorithms on your computer.\n",
    "hashlib.algorithms_available\n"
   ]
  },
  {
   "cell_type": "markdown",
   "metadata": {},
   "source": [
    "\n",
    "<br>\n",
    "\n",
    "Example creating a hash from an arbitrary string:"
   ]
  },
  {
   "cell_type": "code",
   "execution_count": null,
   "metadata": {},
   "outputs": [],
   "source": [
    "\n",
    "# String to hash.\n",
    "s = \"Sittin' in the shade and shoveling with a spade\"\n",
    "\n",
    "# Create digest.\n",
    "digest = hashlib.sha256(s.encode(\"utf-8\")).hexdigest()\n",
    "\n",
    "digest"
   ]
  },
  {
   "cell_type": "markdown",
   "metadata": {},
   "source": [
    "\n",
    "<br>\n",
    "\n",
    "How does the digest change if I add a trailing space?"
   ]
  },
  {
   "cell_type": "code",
   "execution_count": null,
   "metadata": {},
   "outputs": [],
   "source": [
    "\n",
    "s2 = \"Sittin' in the shade and shoveling with a spade \"\n",
    "\n",
    "digest2 = hashlib.sha256(s2.encode(\"utf-8\")).hexdigest()\n",
    "\n",
    "print(f\"digest : {digest}\")\n",
    "print(f\"digest2: {digest2}\")\n",
    "\n"
   ]
  },
  {
   "cell_type": "markdown",
   "metadata": {},
   "source": [
    "\n",
    "<br>\n",
    "\n",
    "Hashes are commonly used for data integrity checks. If a single byte of a file is changed, it will render a completely different digest. \n",
    "\n",
    "- Anaconda distribution: https://www.anaconda.com/download/success\n",
    "- Anaconda installer file hashes: https://docs.anaconda.com/free/anaconda/hashes/index.html\n"
   ]
  },
  {
   "cell_type": "markdown",
   "metadata": {},
   "source": [
    "\n",
    "For the version of Anaconda I downloaded, the SHA-256 digest should be:\n",
    "\n",
    "- `c536ddb7b4ba738bddbd4e581b29308cb332fa12ae3fa2cd66814bd735dff231`\n",
    "\n",
    "Do we get the same digest, or has a malicious adversary altered the artifact?"
   ]
  },
  {
   "cell_type": "code",
   "execution_count": null,
   "metadata": {},
   "outputs": [],
   "source": [
    "\n",
    "expected_digest = \"c536ddb7b4ba738bddbd4e581b29308cb332fa12ae3fa2cd66814bd735dff231\"\n",
    "\n",
    "pp = \"Anaconda3-2024.02-1-Linux-x86_64.sh\"\n",
    "\n",
    "actual_digest = hashlib.sha256(open(pp, \"rb\").read()).hexdigest()\n",
    "\n",
    "print(f\"Expected digest: {expected_digest}\")\n",
    "print(f\"Actual digest  : {actual_digest}\")"
   ]
  },
  {
   "cell_type": "markdown",
   "metadata": {},
   "source": [
    "\n",
    "<br>\n",
    "\n",
    "Digests can be created for images, which allows for quick comparison. Take the album cover for the Allman Brothers 1971 classic *At the Fillmore East* (880 x 800 pixel image, 1,920,000 color points):\n"
   ]
  },
  {
   "cell_type": "markdown",
   "metadata": {},
   "source": [
    "\n",
    "![](https://popspotsnyc.com/ALLMAN_BROTHERS_FILLMORE_EAST/allman_bros_fillmore_east.jpg)\n"
   ]
  },
  {
   "cell_type": "code",
   "execution_count": null,
   "metadata": {},
   "outputs": [],
   "source": [
    "\n",
    "# Specify path to locally downloaded image.\n",
    "img_path = \"../Misc/Images/fillmore.jpg\"\n",
    "\n",
    "# Create digest.\n",
    "allman_digest = hashlib.sha256(open(img_path, \"rb\").read()).hexdigest()\n",
    "\n",
    "# Print digest.\n",
    "print(f\"allman_digest: {allman_digest}\")\n"
   ]
  },
  {
   "cell_type": "markdown",
   "metadata": {},
   "source": [
    "\n",
    "<br>\n",
    "\n",
    "\n",
    "### Exercise 1: Pickling your hashes (not a euphemism)\n",
    "\n",
    "\n",
    "1. Identify the hashing algorithms available on your computer (should be the same for most Windows machines, may be some differences for MacOS). Choose 3, and create separate digests of the Gettysburg Address for each. \n",
    "\n",
    "2. Create a dictionary with keys the string representation of the algorithm you chose and values the digest for that algorithm. For example, if I chose sha1, sha224 and sha384, my dictionary would look like the following:\n",
    "\n",
    "```\n",
    "d = {\n",
    "    \"sha1\": \"whatever the sha1 digest turns out to be\",\n",
    "    \"sha224\": \"whatever the sha224 digest turns out to be\",\n",
    "    \"sha384\": \"whatever the sha384 digest turns out to be\"\n",
    "}\n",
    "```\n",
    "\n",
    "3. Serialize the dictionary to a .pkl file named *my-digests.pkl*.\n",
    "\n"
   ]
  },
  {
   "cell_type": "code",
   "execution_count": null,
   "metadata": {},
   "outputs": [],
   "source": [
    "\n",
    "gettysburg = \"\"\"\n",
    "Four score and seven years ago our fathers brought forth on this continent, a \n",
    "new nation, conceived in Liberty, and dedicated to the proposition that all men \n",
    "are created equal. Now we are engaged in a great civil war, testing whether that \n",
    "nation, or any nation so conceived and so dedicated, can long endure. We are met \n",
    "on a great battle-field of that war. We have come to dedicate a portion of that \n",
    "field, as a final resting place for those who here gave their lives that that \n",
    "nation might live. It is altogether fitting and proper that we should do this. \n",
    "But, in a larger sense, we can not dedicate -- we can not consecrate we can not \n",
    "hallow this ground. The brave men, living and dead, who struggled here, have \n",
    "consecrated it, far above our poor power to add or detract. The world will \n",
    "little note, nor long remember what we say here, but it can never forget what \n",
    "they did here. It is for us the living, rather, to be dedicated here to the \n",
    "unfinished work which they who fought here have thus far so nobly advanced. \n",
    "It is rather for us to be here dedicated to the great task remaining before us \n",
    "that from these honored dead we take increased devotion to that cause for which \n",
    "they gave the last full measure of devotion -- that we here highly resolve that \n",
    "these dead shall not have died in vain -- that this nation, under God, shall \n",
    "have a new birth of freedom -- and that government of the people, by the people, \n",
    "for the people, shall not perish from the earth.\n",
    "\"\"\"\n",
    "\n",
    "##### YOUR CODE HERE #####\n",
    "\n"
   ]
  },
  {
   "cell_type": "markdown",
   "metadata": {},
   "source": [
    "\n",
    "<br>\n",
    "\n",
    "\n",
    "### [3. difflib](https://docs.python.org/3/library/difflib.html#module-difflib)\n",
    "\n",
    "\n",
    "difflib provides tools for computing and working with differences between sequences. It includes functions and classes for comparing sequences, finding differences, and generating human-readable differences or patches.\n",
    "\n",
    "\n",
    "Imagine we have two strings and want to quantify their similarity. We can leverage `difflib.SequenceMatcher`:\n"
   ]
  },
  {
   "cell_type": "code",
   "execution_count": null,
   "metadata": {},
   "outputs": [],
   "source": [
    "\n",
    "import difflib\n",
    "\n",
    "s1 = \"either renew oneself or perish\"\n",
    "s2 = \"either renew thyself or perish\"\n",
    "\n",
    "\n",
    "# Compute similarity score of s1 and s2. \n",
    "sim_score = difflib.SequenceMatcher(None, s1, s2).ratio()\n",
    "\n",
    "\n",
    "print(f\"Similarity score of s1 and s2: {sim_score:.2%}\")\n"
   ]
  },
  {
   "cell_type": "markdown",
   "metadata": {},
   "source": [
    "<br>\n",
    "\n",
    "### Exercise 2: Finding Similar Addresses\n",
    "\n",
    "For the list of addresses below, compute the similarity score of each address with the target address. How many entries in the addresses list are highly similar to target_address?\n"
   ]
  },
  {
   "cell_type": "code",
   "execution_count": null,
   "metadata": {},
   "outputs": [],
   "source": [
    "\n",
    "target_address = \"123 Main, Springfield IL 62701\"\n",
    "\n",
    "\n",
    "addresses = [\n",
    "    \"456 Elm Avenue, Pleasantville, NY 10570\",\n",
    "    \"789 Oak Lane, Boulder, CO 80302\",\n",
    "    \"101 Maple Street, Portland OR 97201\", \n",
    "    \"234 Pine Bluff Road, San Francisco, CA 94103\",\n",
    "    \"123 Main Street, Springfield, IL 62701\",\n",
    "    \"567 Cedar Drive, Austin, TX 78701\",\n",
    "    \"890 Birch Court, Seattle, WA 98101\", \n",
    "    \"123 Main St., Springfield, IL 62701-7543\",\n",
    "    \"111 Spruce Street, Boston, MA 02108\",\n",
    "    \"222 Cherry Lane, Miami, FL 33101\",\n",
    "    \"333 Walnut Avenue, Denver, CO 80202\",\n",
    "    \"444 Ash Street, Nashville, TN 37201\",\n",
    "    \"555 Willow Way, Chicago, IL 60601\",\n",
    "    \"666 Magnolia Boulevard, Los Angeles, CA 90001\",\n",
    "    \"777 Cedar Lane, Atlanta, GA 30301\",\n",
    "    ]\n",
    "\n",
    "\n",
    "##### YOUR CODE HERE #####\n",
    "\n"
   ]
  },
  {
   "cell_type": "markdown",
   "metadata": {},
   "source": [
    "\n",
    "<br>\n",
    "\n",
    "### [4. re](https://docs.python.org/3/library/re.html#module-re)\n",
    "\n",
    "#### Regular Expressions in Python\n",
    "\n",
    "Regular expressions (regex) are sequences of characters used to define search patterns. They enable sophisticated string matching and manipulation in text processing tasks. Regex patterns specify sequences of characters that must be found or matched in a string. They're employed in tasks such as text search and replace, input validation, and data extraction. Refer to the [Python Regular Expression HOWTO](https://docs.python.org/3/howto/regex.html) for more information.\n",
    "\n",
    "\n",
    "- Python Regular Expression Evaluator: https://pythex.org/\n",
    "\n",
    "<br>\n",
    "\n",
    "\n",
    "Many of the string methods we've used are similar to regular expressions (`startswith`, `endswith`, `isalpha`), but these are relatively limited. Regular expressions can be leveraged to find complex patterns in text streams.\n",
    "\n",
    "The cheatsheet at pythex.org contains the full list of regular expression symbols, but a few are listed below:\n",
    "\n",
    "- `?` : optional (0 or 1 repetitions).\n",
    "- `*` : Zero or more times.\n",
    "- `+` : One or more times.\n",
    "-`{m,n}` : Between m and n times.\n",
    "- `^` : Match at start of string.\n",
    "- `$` : Match at end of string.\n",
    "- `.` : Matches any character except newline.\n",
    "- `[A-Z]`: Matches uppercase letters.\n",
    "- `[a-z]`: Matches lowercase letters.\n",
    "- `[A-Za-z0-9.-]`: Matches uppercase, lowercase, digits, literal `.` and `-`.\n",
    "- `\\b`: Matches empty string at word boundary. \n"
   ]
  },
  {
   "cell_type": "code",
   "execution_count": null,
   "metadata": {},
   "outputs": [],
   "source": [
    "\"\"\"\n",
    "312-845-5555\n",
    "apples\n",
    "In 1492 columbus sailed the ocean blue\n",
    "2018-09-07\n",
    "(312)-845-5555\n",
    "17-9866758-900987757567\n",
    "\"\"\"\n",
    "\n",
    "stream = '''\n",
    "    312-845-5555\n",
    "    apples\n",
    "    In 1492 columbus sailed the ocean blue\n",
    "    2018-09-07\n",
    "    (312)-845-5555\n",
    "    17-9866758-900987757567\n",
    "    '''\n"
   ]
  },
  {
   "cell_type": "markdown",
   "metadata": {},
   "source": [
    "\n",
    "<br>\n",
    "\n",
    "We've created our regular expression `^\\(?\\d{3}\\)?-\\d{3}-\\d{4}`. Here is how to extract the matches using the re library:\n"
   ]
  },
  {
   "cell_type": "code",
   "execution_count": null,
   "metadata": {},
   "outputs": [],
   "source": [
    "\n",
    "import re\n",
    "\n",
    "matches = re.findall(r\"\\b\\(?\\d{3}\\)?-\\d{3}-\\d{4}\\b\", stream)\n",
    "\n",
    "matches\n"
   ]
  },
  {
   "cell_type": "markdown",
   "metadata": {},
   "source": [
    "\n",
    "<br>\n",
    "\n",
    "### Exercise 3: Contacting Puppy Boy\n",
    "\n",
    "The following text is a transcript from a customer service call. The representative urgently needs to send an email to Puppy Boy regarding his account, but the addresses can only be obtained from the transcript. Use the power of regular expressions to extract Puppy Boy's email addresses so his information can be delivered. "
   ]
  },
  {
   "cell_type": "code",
   "execution_count": null,
   "metadata": {},
   "outputs": [],
   "source": [
    "\n",
    "transcript = \"\"\"\n",
    "REPRESENTATIVE: So, Puppy Boy that's your real name\n",
    "CUSTOMER: Yep. P-U-P-P-Y B-O-Y I'm part puppy, part boy\n",
    "REPRESENTATIVE: OK (long pause) The email address we have on file is puppy.boy420@gmail.com is that correct\n",
    "CUSTOMER: Woof. You can also contact me at beggin4bones@yahoo.com or not.your.scooby@outlook.com \n",
    "REPRESENTATIVE: Thank you Puppy Boy we will send your receipt for 10000 pounds of Purina to each address\n",
    "CUSTOMER: Thank you madam may the wind always be at your back and the sun upon your face\n",
    "\"\"\"\n",
    "\n",
    "##### YOUR CODE HERE #####\n"
   ]
  }
 ],
 "metadata": {
  "kernelspec": {
   "display_name": "Python 3",
   "language": "python",
   "name": "python3"
  },
  "language_info": {
   "codemirror_mode": {
    "name": "ipython",
    "version": 3
   },
   "file_extension": ".py",
   "mimetype": "text/x-python",
   "name": "python",
   "nbconvert_exporter": "python",
   "pygments_lexer": "ipython3",
   "version": "3.12.0"
  }
 },
 "nbformat": 4,
 "nbformat_minor": 2
}
