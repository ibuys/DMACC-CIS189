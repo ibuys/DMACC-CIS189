{
 "cells": [
  {
   "cell_type": "markdown",
   "metadata": {},
   "source": [
    "Practice Problems\n",
    "\n",
    "\n",
    "\n",
    "\n",
    "1. Daily high temperatures over a prior 7 day period along with the corresponding day were the following:\n",
    "\n",
    "\n",
    "days1 = [\"sun\", \"mon\", \"tue\", \"wed\", \"thu\", \"fri\", \"sat\"]\n",
    "temps1 = [-7, 4, 1, 7, 11, 28, 19]\n",
    "\n",
    "\n",
    "1a. What was the high, low and average temperature over the past 7 days?\n",
    "1b. What was the average temperature excluding the first and last days? (hint: use slice notation)\n",
    "1c. What day had the highest temperature? What day had the lowest temperature?\n",
    "1d. What was the average temperature excluding Wednesday?\n",
    "\n",
    "\n",
    "2. New data has come in for the next 7 days:\n",
    "\n",
    "\n",
    "days2 = [\"sun\", \"mon\", \"tue\", \"wed\", \"thu\", \"fri\", \"sat\"]\n",
    "temps2 = [17, 9, 9, 26, 20, 19, 34]\n",
    "\n",
    "\n",
    "Combine days1 & days2 and temps1 & temps2 to answer the following questions about temperature over the 14-day period:\n",
    "\n",
    "\n",
    "2a. What was the high, low and average temperature over the past 14 days?\n",
    "2b. Is the average temperature over the past 14 days higher or lower than the average over the first 7 days?\n",
    "2c. Is the average Wednesday temperature higher or lower than the average Friday temperature?\n",
    "2d. What is the maximum weekend temperature over the 14-day period?\n",
    "\n",
    "\n",
    "3. An example of a length 21 DNA string (whose alphabet contains the symbols 'A', 'C', 'G', and 'T') is \"ATGCTTCAGAAAGGTCTTACG.\"\n",
    "\n",
    "Given: A DNA string s = \"AGCTTTTCATTCTGACTGCAACGGGCAATATGTCTCTGTGTGGATTAAAAAAAGAGTGTCTGATAGCAGC\"\n",
    "\n",
    "\n",
    "3a. How long is s?\n",
    "3b. Print the last 7 characters of s using slice notation.\n",
    "3c. What letter is at index 21? Index 71?\n",
    "3d. Return four integers (separated by spaces) counting the respective number of times that the symbols 'A', 'C', 'G', and 'T' occur in s.\n",
    "\n",
    "\n",
    "\n",
    "4. You decide to test a genetic mutation by splicing (\"replacing\") all \"AG\" pairs with \"CT\" pairs. How does the frequency distribution change compared with 3d.? (hint: rerun your code from 3d. on the updated string)."
   ]
  }
 ],
 "metadata": {
  "language_info": {
   "name": "python"
  }
 },
 "nbformat": 4,
 "nbformat_minor": 2
}
