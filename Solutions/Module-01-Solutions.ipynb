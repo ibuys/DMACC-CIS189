{
 "cells": [
  {
   "cell_type": "markdown",
   "metadata": {},
   "source": [
    "### Module \\#1 Assignment Solutions"
   ]
  },
  {
   "cell_type": "markdown",
   "metadata": {},
   "source": [
    "#### Variable Assignment\n",
    "---\n",
    "\n",
    "Write a small program that declares 3 variables quantity (integer), item (string) and size (float-point number). Set them to your favorite numbers and a random item. Below is example output for variables with values 5, hats, 4.0.\n",
    "\n",
    "> 5 hats size 4.0\n",
    "\n",
    "\n",
    "Add a constant variable (in the same file) for price of hats and print it out. Use appropriate conventions.\n",
    "\n",
    "\n",
    "> hats are $19.99\n"
   ]
  },
  {
   "cell_type": "code",
   "execution_count": 6,
   "metadata": {},
   "outputs": [
    {
     "name": "stdout",
     "output_type": "stream",
     "text": [
      "5 hats size 4.0\n",
      "hats are $19.99\n"
     ]
    }
   ],
   "source": [
    "\n",
    "quantity = 5\n",
    "item = \"hats\"\n",
    "size = 4.0\n",
    "price = 19.99\n",
    "\n",
    "print(f\"{quantity} {item} size {size}\")\n",
    "\n",
    "print(f\"{item} are ${price:,.2f}\")\n"
   ]
  },
  {
   "cell_type": "markdown",
   "metadata": {},
   "source": [
    "#### Casting Assignment\n",
    "---\n",
    "Write a small program that accepts any input and converts it to an integer, include docsting at the beginning of your code."
   ]
  },
  {
   "cell_type": "code",
   "execution_count": 7,
   "metadata": {},
   "outputs": [
    {
     "name": "stdout",
     "output_type": "stream",
     "text": [
      "input: 4.778  expected: 4  actual: 4\n"
     ]
    }
   ],
   "source": [
    "\"\"\"\n",
    "Code to convert test_value to an integer, and display actual vs. expected\n",
    "output, along with value of interest.\n",
    "\"\"\"\n",
    "\n",
    "test_value = 4.778\n",
    "\n",
    "expected_value = 4\n",
    "\n",
    "actual_value = int(test_value)\n",
    "\n",
    "print(f\"input: {test_value}  expected: {expected_value}  actual: {actual_value}\")\n"
   ]
  }
 ],
 "metadata": {
  "kernelspec": {
   "display_name": "Python 3",
   "language": "python",
   "name": "python3"
  },
  "language_info": {
   "codemirror_mode": {
    "name": "ipython",
    "version": 3
   },
   "file_extension": ".py",
   "mimetype": "text/x-python",
   "name": "python",
   "nbconvert_exporter": "python",
   "pygments_lexer": "ipython3",
   "version": "3.12.0"
  }
 },
 "nbformat": 4,
 "nbformat_minor": 2
}
