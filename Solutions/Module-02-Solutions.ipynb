{
 "cells": [
  {
   "cell_type": "markdown",
   "metadata": {},
   "source": [
    "### Module \\#2 Assignment Solutions"
   ]
  },
  {
   "cell_type": "markdown",
   "metadata": {},
   "source": [
    "\n",
    "**1. Strings and String Methods**\n",
    "\n",
    "Assign a string of your favorite movie character and the movie they are they are in to a variable. \n",
    "For example, `\"Carol Danvers in Captain Marvel\"`.\n",
    "\n",
    "Next, one by one, use each of the methods and print the result. NOTE: You may need to use a substring or \n",
    "character to display the method use correctly. \n",
    "\n",
    "```\n",
    "capitalize\n",
    "find\n",
    "index\n",
    "isalnum\n",
    "isalpha\n",
    "isdigit\n",
    "islower\n",
    "isupper\n",
    "isspace\n",
    "startswith\n",
    "```\n"
   ]
  },
  {
   "cell_type": "code",
   "execution_count": null,
   "metadata": {},
   "outputs": [],
   "source": [
    "\n",
    "s = \"John Nash in A Beautiful Mind\"\n",
    "\n",
    "# s.capitalize()       -> 'John nash in a beautiful mind'\n",
    "\n",
    "# s.find(\"Nash\")       -> 5\n",
    "\n",
    "# s.index(\"Nash\")      -> 5\n",
    "\n",
    "# s.isalnum()          -> False\n",
    "\n",
    "# s.isdigit()          -> False\n",
    "\n",
    "# s.islower()          -> False\n",
    "\n",
    "# s.isupper()          -> False\n",
    "\n",
    "# s.isspace()          -> False\n",
    "\n",
    "# s.startswith(\"John\") -> True\n"
   ]
  },
  {
   "cell_type": "markdown",
   "metadata": {},
   "source": [
    "**2. Lists and List Methods Assignment**\n",
    "\n",
    "Create a list, called `list_one` of 3 of your favorite strings. Print the list.\n",
    "\n",
    "```python\n",
    "list_one = ['the','big','dog']\n",
    "print(list_one)\n",
    "['the', 'big', 'dog']\n",
    "```\n",
    "\n",
    "Next, one by one, use each of the methods and print the result. The first few have explanations, use the help() for the remaining methods.\n",
    "\n",
    "```\n",
    "append\n",
    "copy\n",
    "index\n",
    "count\n",
    "insert\n",
    "remove\n",
    "reverse\n",
    "sort\n",
    "clear\n",
    "```\n",
    "\n"
   ]
  },
  {
   "cell_type": "code",
   "execution_count": null,
   "metadata": {},
   "outputs": [],
   "source": [
    "\n",
    "list_one = [\"i\", \"am\", \"the\", \"walrus\"]\n",
    "\n",
    "print(f\"list_one: {list_one}\")\n"
   ]
  },
  {
   "cell_type": "code",
   "execution_count": null,
   "metadata": {},
   "outputs": [],
   "source": [
    "\n",
    "# append\n",
    "list_one.append(\"coocoocachoo\")\n",
    "\n",
    "print(f\"list_one: {list_one}\")\n"
   ]
  },
  {
   "cell_type": "code",
   "execution_count": null,
   "metadata": {},
   "outputs": [],
   "source": [
    "\n",
    "# copy\n",
    "list_two = list_one.copy()\n",
    "\n",
    "print(f\"list_one: {list_one}\")\n",
    "print(f\"list_two: {list_two}\")\n"
   ]
  },
  {
   "cell_type": "code",
   "execution_count": null,
   "metadata": {},
   "outputs": [],
   "source": [
    "\n",
    "# Get index of \"walrus\".\n",
    "list_one.index(\"walrus\")\n"
   ]
  },
  {
   "cell_type": "code",
   "execution_count": null,
   "metadata": {},
   "outputs": [],
   "source": [
    "\n",
    "# count\n",
    "list_one.count(\"eggman\")\n"
   ]
  },
  {
   "cell_type": "code",
   "execution_count": null,
   "metadata": {},
   "outputs": [],
   "source": [
    "\n",
    "# insert \"joobjoobjooba\" at first index.\n",
    "list_one.insert(0, \"joobjoobjooba\")\n",
    "\n",
    "print(f\"list_one after insert: {list_one}\")\n"
   ]
  },
  {
   "cell_type": "code",
   "execution_count": null,
   "metadata": {},
   "outputs": [],
   "source": [
    "\n",
    "# remove 'joobjoobjooba'\n",
    "list_one.remove(\"joobjoobjooba\")\n",
    "\n",
    "print(f\"list_one after remove: {list_one}\")"
   ]
  },
  {
   "cell_type": "code",
   "execution_count": null,
   "metadata": {},
   "outputs": [],
   "source": [
    "\n",
    "# reverse (reverses elements in place)\n",
    "list_one.reverse()\n",
    "\n",
    "print(f\"list_one after in-place reverse: {list_one}\")\n"
   ]
  },
  {
   "cell_type": "code",
   "execution_count": null,
   "metadata": {},
   "outputs": [],
   "source": [
    "\n",
    "# sort elements in place lexically. \n",
    "list_one.sort()\n",
    "\n",
    "print(f\"list_one after in-place sort: {list_one}\")"
   ]
  },
  {
   "cell_type": "code",
   "execution_count": null,
   "metadata": {},
   "outputs": [],
   "source": [
    "\n",
    "# clear elements from list_one.\n",
    "list_one.clear()\n",
    "\n",
    "print(f\"list_one after clear: {list_one}\")"
   ]
  },
  {
   "cell_type": "markdown",
   "metadata": {},
   "source": [
    "**3. Basic Input and Format Output**\n",
    "\n",
    "Create a script named average_scores.py to read in a user's first and last name, their age and three scores out of 100. Take the three scores and find the average, storing into a variable.\n",
    "\n",
    "- Prompt the user for what is expected for each input\n",
    "- Store into local variables last_name, first_name, age.\n",
    "- Use a constant to represent the number of scores you will prompt the user to input\n",
    "- Prompt the user for the three scores, storing them in local variable or variables. \n",
    "- You can keep separate variables for each score, or you keep a running total in one variable. \n",
    "- Calculate the average using the stored inputs.\n",
    "- Print the output, with last name followed by a comma and the first name followed by an integer age and then the average scores with 2 decimal places.\n",
    "\n",
    "Example output:\n",
    "\n",
    "```\n",
    "Rodriguez, Linda age: 21 average grade: 92.50\n",
    "```\n",
    "\n",
    "Add a docstring to the top of average_scores.py explaining what your code is doing. Add comments where necessary.\n",
    "Submit your *average_scores.py* script, which will be tested against a set of test inputs. Your script must return correctly formatted output with the correct average to receive full credit. \n"
   ]
  },
  {
   "cell_type": "code",
   "execution_count": null,
   "metadata": {},
   "outputs": [],
   "source": [
    "\"\"\"\n",
    "average_scores.py\n",
    "\n",
    "Prompt user for:\n",
    "    - first name\n",
    "    - last name\n",
    "    - age\n",
    "    - three scores out of 100. \n",
    "\n",
    "Compute average of three scores and return the final result as:\n",
    "\n",
    "{last_name}, {first_name} age: {age} average grade: avg_grade\n",
    "\"\"\"\n",
    "\n",
    "from statistics import mean\n",
    "\n",
    "NUMBER_SCORES = 3\n",
    "\n",
    "first_name = input(\"Enter first_name: \")\n",
    "last_name = input(\"Enter last name: \")\n",
    "age = input(\"Enter age: \")\n",
    "score1 = float(input(\"Enter first score: \").strip())\n",
    "score2 = float(input(\"Enter second score: \").strip())\n",
    "score3 = float(input(\"Enter third score: \").strip())\n",
    "\n",
    "# Put scores in list. \n",
    "all_scores = [score1, score2, score3]\n",
    "\n",
    "# Compute average score.\n",
    "avg_score = round(mean(all_scores), 2)\n",
    "\n",
    "print(f\"{last_name}, {first_name} age: {age} average grade: {avg_score}\")\n"
   ]
  }
 ],
 "metadata": {
  "kernelspec": {
   "display_name": "Python 3",
   "language": "python",
   "name": "python3"
  },
  "language_info": {
   "codemirror_mode": {
    "name": "ipython",
    "version": 3
   },
   "file_extension": ".py",
   "mimetype": "text/x-python",
   "name": "python",
   "nbconvert_exporter": "python",
   "pygments_lexer": "ipython3",
   "version": "3.12.0"
  }
 },
 "nbformat": 4,
 "nbformat_minor": 2
}
