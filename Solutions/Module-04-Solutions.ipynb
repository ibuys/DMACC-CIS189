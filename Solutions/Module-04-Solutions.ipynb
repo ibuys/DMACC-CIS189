{
 "cells": [
  {
   "cell_type": "markdown",
   "metadata": {},
   "source": [
    "### Module \\#4 Assignment Solutions"
   ]
  },
  {
   "cell_type": "markdown",
   "metadata": {},
   "source": [
    "**1. Input Validation with Try/Except**\n",
    "\n",
    "Update your average_score.py code from Module 2 with added input validation using try/except.\n",
    "\n",
    "Details:\n",
    "\n",
    "Update your existing code to include try/except for each of the user inputs.\n",
    "If the user enters negative numbers or a string for their number inputs, the except path \n",
    "should print an error message.\n",
    " \n",
    "For convenience, below are the original assignment instructions:\n",
    "\n",
    "Create a script named average_scores.py to read in a user's first and last name, their age and three scores out of 100. Take the three scores and find the average, storing into a variable.\n",
    "\n",
    "Prompt the user for what is expected for each input\n",
    "Store into local variables last_name, first_name, age.\n",
    "Use a constant to represent the number of scores you will prompt the user to input\n",
    "Prompt the user for the three scores, storing them in local variable or variables. \n",
    "You can keep separate variables for each score, or you keep a running total in one variable. \n",
    "Calculate the average using the stored inputs.\n",
    "\n",
    "Print the output, with last name followed by a comma and the first name followed by an integer age and then the average scores with 2 decimal places.\n",
    "Example output:\n",
    "\n",
    "> Rodriguez, Linda age: 21 average grade: 92.50\n",
    "\n",
    "Add a docstring to the top of average_scores.py explaining what your code is doing. Add comments where necessary.\n"
   ]
  },
  {
   "cell_type": "code",
   "execution_count": 1,
   "metadata": {},
   "outputs": [
    {
     "name": "stdout",
     "output_type": "stream",
     "text": [
      "Invalid input: could not convert string to float: 'b'\n"
     ]
    }
   ],
   "source": [
    "\"\"\"\n",
    "average_scores.py\n",
    "\n",
    "Prompt user for:\n",
    "    - first name\n",
    "    - last name\n",
    "    - age\n",
    "    - three scores out of 100. \n",
    "\n",
    "Compute average of three scores and return the final result as:\n",
    "\n",
    "{last_name}, {first_name} age: {age} average grade: avg_grade\n",
    "\"\"\"\n",
    "\n",
    "NUMBER_SCORES = 3\n",
    "\n",
    "try:\n",
    "    first_name = input(\"Enter first_name: \")\n",
    "    last_name = input(\"Enter last name: \")\n",
    "    age = input(\"Enter age: \")\n",
    "    score1 = float(input(\"Enter first score: \").strip())\n",
    "    score2 = float(input(\"Enter second score: \").strip())\n",
    "    score3 = float(input(\"Enter third score: \").strip())\n",
    "\n",
    "except ValueError as ee:\n",
    "    print(f\"Invalid input: {str(ee)}\")\n",
    "\n",
    "else:\n",
    "    # Compute average score.\n",
    "    avg_score = (score1 + score2 + score3) / NUMBER_SCORES \n",
    "    print(f\"{last_name}, {first_name} age: {age} average grade: {avg_score:.2f}\")\n"
   ]
  },
  {
   "cell_type": "markdown",
   "metadata": {},
   "source": [
    "\n",
    "**2. Basic Function Assignment**\n",
    "\n",
    "Write a function called hourly_employee_input that asks the user for a name (string), hours worked (int) and an hourly pay rate (float) and prints a string including the information. Include a docstring as your first line declaring what the function does.\n"
   ]
  },
  {
   "cell_type": "code",
   "execution_count": null,
   "metadata": {},
   "outputs": [],
   "source": [
    "\n",
    "# void function\n",
    "def hourly_employee_input1():\n",
    "    \"\"\"\n",
    "    Prompt user for name, hours worked and hourly pay rate.\n",
    "    Print a string including the information.\n",
    "    \"\"\"\n",
    "    name = input(\"Enter name: \")\n",
    "    hours = float(input(\"Hours worked: \"))\n",
    "    rate_of_pay = float(input(\"Hourly rate: \"))\n",
    "    print(f\"name: {name}, hours worked: {hours}, hourly rate: {rate_of_pay:,.2f}\")\n",
    "\n",
    "\n",
    "hourly_employee_input1()\n"
   ]
  },
  {
   "cell_type": "markdown",
   "metadata": {},
   "source": [
    "Instead of prompting the user for inputs, we can supply them as function arguments and return a value instead of printing the result. This is useful because the result can be stored in a variable and used later in the program as necessary."
   ]
  },
  {
   "cell_type": "code",
   "execution_count": null,
   "metadata": {},
   "outputs": [],
   "source": [
    "\"\"\"\n",
    "Recall our function declaration checklist:\n",
    "\n",
    "- start with def\n",
    "- supply a function name\n",
    "- add parens, optionally with function arguments\n",
    "- Add colon after closing paren\n",
    "- Include docstring with summary, Parameters and Returns sections (indented 4 spaces)\n",
    "- Add function body (indented four spaces to start)\n",
    "- Add return statement for fruitful functions or print for void functions\n",
    "\"\"\"\n",
    "\n",
    "# Fruitful function.\n",
    "def hourly_employee_input2(name, hours, rate_of_pay):\n",
    "    \"\"\"\n",
    "    Return a string displaying name, hours worked and hourly pay rate.\n",
    "\n",
    "    Parameters\n",
    "    ----------\n",
    "    name: str\n",
    "        Name of individual.\n",
    "\n",
    "    hours: float\n",
    "        Hours worked\n",
    "\n",
    "    rate_of_pay: float\n",
    "        Hourly rate of pay\n",
    "\n",
    "    Returns\n",
    "    -------\n",
    "    str\n",
    "    \"\"\"\n",
    "    s = f\"name: {name}, hours worked: {hours}, hourly rate: {rate_of_pay:,.2f}\"\n",
    "    return(s)\n"
   ]
  },
  {
   "cell_type": "markdown",
   "metadata": {},
   "source": [
    "**3. Function Return Value Assignment**\n",
    "\n",
    "Make a copy of your *hourly_employee_input.py* from Topic 2 which contains your hourly_employee_input function that asks the user for a name (string), hours worked (int) and an hourly pay rate (float) and prints a string including the information.\n",
    "\n",
    "Write a function `weekly_pay` that accepts hours_worked and hourly_pay_rate as parameters and returns the calculated weekly pay. Within *hourly_employee_input*, call the weekly_pay function to determine the weekly pay amount for the specified individual.\n",
    "\n",
    "The modified hourly_employee_input function should now print name, hours worked and weekly pay. \n",
    "\n",
    "Include a docstring as your first line declaring what the function does.\n",
    "\n",
    "Submit a file named *hourly_employee_input2.py.*"
   ]
  },
  {
   "cell_type": "code",
   "execution_count": 5,
   "metadata": {},
   "outputs": [
    {
     "name": "stdout",
     "output_type": "stream",
     "text": [
      "name: J, hours worked: 100.0, weekly pay: $10,000.00\n"
     ]
    }
   ],
   "source": [
    "\n",
    "\n",
    "def weekly_pay(hours_worked, hourly_pay_rate):\n",
    "    \"\"\"\n",
    "    Compute the weekly pay rate from hours_worked and hourly_pay_rate.\n",
    "\n",
    "    Parameters\n",
    "    ----------\n",
    "    hours_worked: float\n",
    "        Hours worked.\n",
    "\n",
    "    hourly_pay_rate:\n",
    "        Hourly pay rate in dollars.\n",
    "\n",
    "    Returns\n",
    "    -------\n",
    "    float\n",
    "        Weekly pay in dollars.\n",
    "    \"\"\"\n",
    "    return hours_worked * hourly_pay_rate\n",
    "\n",
    "\n",
    "# void function\n",
    "def hourly_employee_input():\n",
    "    \"\"\"\n",
    "    Prompt user for name, hours worked and hourly pay rate.\n",
    "    Print a string including the information.\n",
    "    \"\"\"\n",
    "    name = input(\"Enter name: \")\n",
    "    hours = float(input(\"Hours worked: \"))\n",
    "    rate_of_pay = float(input(\"Hourly rate: \"))\n",
    "\n",
    "    # Compute weekly pay.\n",
    "    weekly = weekly_pay(hours, rate_of_pay)\n",
    "\n",
    "    print(f\"name: {name}, hours worked: {hours}, weekly pay: ${weekly:,.2f}\")\n",
    "\n",
    "hourly_employee_input()"
   ]
  },
  {
   "cell_type": "markdown",
   "metadata": {},
   "source": [
    "**4. Function Parameter and Return Value**\n",
    "\n",
    "\n",
    "The area of a circle is pi x r^2 (in words, pi times the radius squared). Write a function named get_area which takes a single radius parameter and returns the calculated area as a float.\n",
    "\n",
    "Requirements for your function:\n",
    "\n",
    "- Must include a docstring describing the functionality, the parameter and return type. \n",
    "- Must include a try/except block to handle cases when input radius is not a numeric type. If input type is invalid, function should return -1. \n",
    "\n",
    "\n",
    "Evaluate your function against the following radius values:\n",
    "\n",
    "- 1\n",
    "- 5.33\n",
    "- 7.5\n",
    "- 10\n",
    "- \"thirty\"\n"
   ]
  },
  {
   "cell_type": "code",
   "execution_count": null,
   "metadata": {},
   "outputs": [],
   "source": [
    "\n",
    "from math import pi\n",
    "\n",
    "\n",
    "def get_area(r):\n",
    "    \"\"\"\n",
    "    Compute area of circle having radius r. If r is not a numeric type, \n",
    "    return -1.\n",
    "\n",
    "    Parameters\n",
    "    ----------\n",
    "    r: float\n",
    "        Radius of circle\n",
    "\n",
    "    Returns\n",
    "    -------\n",
    "    float\n",
    "        The area of the circle.\n",
    "    \"\"\"\n",
    "    try:\n",
    "        area = pi * r**2\n",
    "\n",
    "    except TypeError:\n",
    "        area = -1\n",
    "\n",
    "    return(area)\n",
    "\n",
    "\n",
    "\n",
    "\n",
    "# Compute areas for circles with various radii. \n",
    "a1 = get_area(1)\n",
    "a2 = get_area(5.33)\n",
    "a3 = get_area(7.5)\n",
    "a4 = get_area(r=10)\n",
    "a5 = get_area(r=\"thirty\")\n",
    "\n",
    "\n",
    "print(f\"Area of circle with radius 1       : {a1:,.2f}\")\n",
    "print(f\"Area of circle with radius 5.33    : {a2:,.2f}\")\n",
    "print(f\"Area of circle with radius 7.5     : {a3:,.2f}\")\n",
    "print(f\"Area of circle with radius 10      : {a4:,.2f}\")\n",
    "print(f\"Area of circle with radius 'thirty': {a5:,.2f}\")"
   ]
  }
 ],
 "metadata": {
  "kernelspec": {
   "display_name": "Python 3",
   "language": "python",
   "name": "python3"
  },
  "language_info": {
   "codemirror_mode": {
    "name": "ipython",
    "version": 3
   },
   "file_extension": ".py",
   "mimetype": "text/x-python",
   "name": "python",
   "nbconvert_exporter": "python",
   "pygments_lexer": "ipython3",
   "version": "3.12.0"
  }
 },
 "nbformat": 4,
 "nbformat_minor": 2
}
