{
 "cells": [
  {
   "cell_type": "markdown",
   "metadata": {},
   "source": [
    "### Module \\#5 Assignment Solutions"
   ]
  },
  {
   "cell_type": "markdown",
   "metadata": {},
   "source": [
    "**1. Basic for Loops**\n",
    "\n",
    "In the editor of your choice, write a Python script *basic_looping.py*.\n",
    "\n",
    "- Declare a list of floating point numbers\n",
    "- Write a for loop to print each\n",
    "- Write a second for loop to print the odd integers descending from 99 to 33 including the endpoints, including 99 and 33 if they are odd (hint: remember the modulus!)\n",
    "\n"
   ]
  },
  {
   "cell_type": "code",
   "execution_count": 1,
   "metadata": {},
   "outputs": [
    {
     "name": "stdout",
     "output_type": "stream",
     "text": [
      "74.83116948417556\n",
      "73.95218167645416\n",
      "5.463175742492421\n",
      "34.989503088418964\n",
      "46.81609948523593\n",
      "74.67475179851904\n",
      "65.72734264030473\n",
      "79.69826019559068\n",
      "22.5425938444179\n",
      "4.310952139964142\n",
      "99\n",
      "97\n",
      "95\n",
      "93\n",
      "91\n",
      "89\n",
      "87\n",
      "85\n",
      "83\n",
      "81\n",
      "79\n",
      "77\n",
      "75\n",
      "73\n",
      "71\n",
      "69\n",
      "67\n",
      "65\n",
      "63\n",
      "61\n",
      "59\n",
      "57\n",
      "55\n",
      "53\n",
      "51\n",
      "49\n",
      "47\n",
      "45\n",
      "43\n",
      "41\n",
      "39\n",
      "37\n",
      "35\n",
      "33\n"
     ]
    }
   ],
   "source": [
    "\n",
    "import random\n",
    "\n",
    "# Create a list of 10 floats between 0-100. \n",
    "vals = []\n",
    "for _ in range(10):\n",
    "    vals.append(100* random.random())\n",
    "\n",
    "# Print each value in vals.\n",
    "for i in vals:\n",
    "    print(i)\n",
    "\n",
    "# Print odd integers descending from 99-33 inclusive. \n",
    "for i in range(99, 32, -1):\n",
    "    if i % 2 != 0:\n",
    "        print(i)\n"
   ]
  },
  {
   "cell_type": "markdown",
   "metadata": {},
   "source": [
    "\n",
    "**2. Basic Function Assignment**\n",
    "\n",
    "Create a file *input_while.py* containing a void function that prompts for numeric input between 1 and 100 (including endpoints). If the user provides a number outside of 1-100, the function should continue to prompt the user until a number within the valid range is provided. Once a valid value is provided, print the value along with the number of tries it took the user to enter a number within the correct range. \n",
    "\n",
    "For example, if the user's first correct entry was on the 4th try and the value was 71, your function should print:\n",
    "\n",
    "> specified value = 71, number of tries = 4 \n"
   ]
  },
  {
   "cell_type": "code",
   "execution_count": null,
   "metadata": {},
   "outputs": [],
   "source": [
    "\n",
    "def prompter():\n",
    "    \"\"\"\n",
    "    Prompt for numeric input between 1 and 100 (including endpoints). If the \n",
    "    user provides a number outside of 1-100, the function should continue to \n",
    "    prompt the user until a number within the valid range is provided. Once a \n",
    "    valid value is provided, print the value along with the number of tries it \n",
    "    took the user to enter a number within the correct range. \n",
    "    \"\"\"\n",
    "\n",
    "    nbr_tries = 0\n",
    "\n",
    "    while True:\n",
    "\n",
    "        try:\n",
    "            val = int(input(\"Enter an integer between 1-100: \"))\n",
    "\n",
    "        except ValueError:\n",
    "            continue\n",
    "\n",
    "        else:\n",
    "            nbr_tries+=1\n",
    "            if 1 <= val <= 100:\n",
    "                print(f\"specified value = {val}, number of tries = {nbr_tries}\")\n",
    "                break\n",
    "\n",
    "prompter()\n"
   ]
  },
  {
   "cell_type": "markdown",
   "metadata": {},
   "source": [
    "**3. Exiting while Loop Assignment**\n",
    "\n",
    "Make a copy of *input_while.py* from Topic 2 named input_while_exit.py.\n",
    "\n",
    "What if the user typed bad input because they wanted to quit the entire program? The algorithm as written does not account for that.\n",
    "\n",
    "You could add code to exit the while if the user enters a sentinel flag (for example, you might choose \"q\" for quit) indicating they no longer want the program to run. Implement this option by adding the appropriate exit statement to the while loop in your original program. \n",
    "\n",
    "Add a docstring to the top of your file and add comments at the bottom with your tests and observed output after a few test runs of your code.\n",
    "\n",
    "Submit your input_while_exit.py. 5 points."
   ]
  },
  {
   "cell_type": "code",
   "execution_count": 15,
   "metadata": {},
   "outputs": [
    {
     "name": "stdout",
     "output_type": "stream",
     "text": [
      "specified value = 54, number of tries = 4\n"
     ]
    }
   ],
   "source": [
    "\n",
    "def prompter():\n",
    "    \"\"\"\n",
    "    Prompt for numeric input between 1 and 100 (including endpoints). If the \n",
    "    user provides a number outside of 1-100, the function should continue to \n",
    "    prompt the user until a number within the valid range is provided. Once a \n",
    "    valid value is provided, print the value along with the number of tries it \n",
    "    took the user to enter a number within the correct range. \n",
    "    If user enters q, program exits.\n",
    "    \"\"\"\n",
    "\n",
    "    nbr_tries = 0\n",
    "\n",
    "    while True:\n",
    "\n",
    "        try:\n",
    "            val = input(\"Enter an integer between 1-100: \")\n",
    "            if val == \"q\":\n",
    "                break\n",
    "            else:\n",
    "                val = int(val)\n",
    "\n",
    "        except ValueError:\n",
    "            continue\n",
    "        else:\n",
    "            nbr_tries+=1\n",
    "            if 1 <= val <= 100:\n",
    "                print(f\"specified value = {val}, number of tries = {nbr_tries}\")\n",
    "                break\n",
    "\n",
    "prompter()\n"
   ]
  }
 ],
 "metadata": {
  "kernelspec": {
   "display_name": "Python 3",
   "language": "python",
   "name": "python3"
  },
  "language_info": {
   "codemirror_mode": {
    "name": "ipython",
    "version": 3
   },
   "file_extension": ".py",
   "mimetype": "text/x-python",
   "name": "python",
   "nbconvert_exporter": "python",
   "pygments_lexer": "ipython3",
   "version": "3.12.0"
  }
 },
 "nbformat": 4,
 "nbformat_minor": 2
}
