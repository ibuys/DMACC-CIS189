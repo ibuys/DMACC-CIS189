{
 "cells": [
  {
   "cell_type": "markdown",
   "metadata": {},
   "source": [
    "### Module \\#6 Assignment Solutions"
   ]
  },
  {
   "cell_type": "markdown",
   "metadata": {},
   "source": [
    "**1. Functions Default Values Assignment**\n",
    "\n",
    "Write a function `score_input()` that takes parameters test_name, test_score, and invalid_message that validates the test_score, then returns a string. \n",
    "\n",
    "\n",
    "Write the function with the following requirements:\n",
    "\n",
    "- The test_name is a mandatory parameter and will not need validation.\n",
    "- The test_score is optional, with default value that is negative, eg -1, and will be validated to be between 0-100.\n",
    "- The invalid_message is optional, with default value 'Invalid test score!'\n",
    "- In the function add appropriate code to validate the the parameter value for test_score. You may need to cast the input from string to the appropriate numeric type.\n",
    "- Return the string with test name and score if it passes validation; otherwise return the test name with invalid_message.\n"
   ]
  },
  {
   "cell_type": "code",
   "execution_count": 9,
   "metadata": {},
   "outputs": [
    {
     "name": "stdout",
     "output_type": "stream",
     "text": [
      "Test1: 70.0.\n",
      "Test2: Invalid test score!\n",
      "Test3: Invalid test score!\n",
      "Test4: ValueError encountered!\n"
     ]
    }
   ],
   "source": [
    "\n",
    "\n",
    "def score_input(test_name, test_score=-1, invalid_message=\"Invalid test score\"):\n",
    "    \"\"\"\n",
    "    Determine if test_score is between 0-100. If not, return invalid_message.\n",
    "\n",
    "    Parameters\n",
    "    ----------\n",
    "    test_name: str\n",
    "        Name of test.\n",
    "\n",
    "    test_score: float\n",
    "        Test score. \n",
    "\n",
    "    invalid_message: str\n",
    "        Message to return if score is outside of valid range.\n",
    "\n",
    "    Returns\n",
    "    -------\n",
    "    str\n",
    "        Message indicating whether specified input is valid.\n",
    "    \"\"\"\n",
    "    try:\n",
    "        test_score = float(test_score)\n",
    "        if 0 <= test_score <= 100:\n",
    "            msg = f\"{test_name}: {test_score}.\"\n",
    "        else:\n",
    "            msg = f\"{test_name}: {invalid_message}!\"\n",
    "\n",
    "    except ValueError:\n",
    "        msg = f\"{test_name}: ValueError encountered!\"\n",
    "\n",
    "    return msg\n",
    "\n",
    "\n",
    "test1 = score_input(\"Test1\", test_score=70)      # Valid input.\n",
    "test2 = score_input(\"Test2\")                     # One value below range (default).\n",
    "test3 = score_input(\"Test3\", test_score=200)     # One value above range.\n",
    "test4 = score_input(\"Test4\", test_score=\"apple\") # One non-numeric input.\n",
    "\n",
    "print(test1)\n",
    "print(test2)\n",
    "print(test3)\n",
    "print(test4)\n",
    "\n"
   ]
  },
  {
   "cell_type": "markdown",
   "metadata": {},
   "source": [
    "**2. Inner Functions Assignment**\n",
    "\n",
    "Create a python file inner_functions_assignment.py. In your inner_functions_assignment.py, write a function `measurements` that accepts a list of measurements for a rectangle and returns a string with perimeter and area.\n",
    "\n",
    "- Write 2 inner functions that accept a list as parameter\n",
    "- area(a_list) -- calculates the area (recall accessing items in a list: a_list[#])\n",
    "- perimeter(a_list) -- calculates the perimeter\n",
    "\n",
    "The outer, measurements function will call the area() and the perimeter()\n",
    "\n",
    "The outer function will build a string and return the following string:\n",
    "\n",
    "Perimeter = 11.0 Area = 7.14  # if this is the perimeter and the area.\n",
    "\n",
    "Next, add necessary statements to calculate for a square the perimeter and the area.\n",
    "\n",
    "len(a_list) is helpful to decide if the list has 1 or 2 items.\n",
    "In your main, call the function for a square and for a rectangle\n"
   ]
  },
  {
   "cell_type": "code",
   "execution_count": 9,
   "metadata": {},
   "outputs": [
    {
     "name": "stdout",
     "output_type": "stream",
     "text": [
      "Perimeter = 28 Area = 49\n",
      "Perimeter = 76 Area = 325\n"
     ]
    }
   ],
   "source": [
    "\n",
    "\n",
    "def measurements(dims_list):\n",
    "\n",
    "    def area():\n",
    "        if len(dims_list) == 1:\n",
    "            a = dims_list[0] ** 2\n",
    "        else:\n",
    "            a = dims_list[0] * dims_list[1]\n",
    "        return a\n",
    "    \n",
    "    def perimeter():\n",
    "        if len(dims_list) == 1:\n",
    "            # Calculate perimeter of square.\n",
    "            p = 4 * dims_list[0]\n",
    "        else:\n",
    "            # Calculate perimeter of rectangle.\n",
    "            p = 2 * dims_list[0] + 2 * dims_list[1]\n",
    "        return p\n",
    "    \n",
    "    # Compute area.\n",
    "    aa = area()\n",
    "    pp = perimeter()\n",
    "    print(f\"Perimeter = {pp} Area = {aa}\")\n",
    "\n",
    "\n",
    "# For square.\n",
    "dims = [7]\n",
    "measurements(dims)\n",
    "\n",
    "\n",
    "# For rectangle.\n",
    "dims = [13, 25]\n",
    "measurements(dims)"
   ]
  }
 ],
 "metadata": {
  "kernelspec": {
   "display_name": "Python 3",
   "language": "python",
   "name": "python3"
  },
  "language_info": {
   "codemirror_mode": {
    "name": "ipython",
    "version": 3
   },
   "file_extension": ".py",
   "mimetype": "text/x-python",
   "name": "python",
   "nbconvert_exporter": "python",
   "pygments_lexer": "ipython3",
   "version": "3.12.0"
  }
 },
 "nbformat": 4,
 "nbformat_minor": 2
}
