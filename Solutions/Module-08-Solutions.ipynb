{
 "cells": [
  {
   "cell_type": "markdown",
   "metadata": {},
   "source": [
    "### Module \\#8 Assignment Solutions"
   ]
  },
  {
   "cell_type": "markdown",
   "metadata": {},
   "source": [
    "**1. Set Assignment**\n",
    "\n",
    "Create a file set_membership.py. Within set_membership.py:\n",
    "\n",
    "- Write a fruitful function in_set() that:\n",
    "- Accepts a set and a value\n",
    "- Return a boolean value stating if the element is in the set\n",
    " \n",
    "Write a main() function, and within it:\n",
    "\n",
    "- Initialize a set called test_set\n",
    "- Initialize a value called test_value\n",
    "- Call in_set() passing in the appropriate values\n",
    "- Print messages as appropriate\n",
    "    - The value 'apple' is in the set `{'banana', 'apple', 'cherry'}`\n",
    "    - The value '5' is not in the set `{'banana', 'apple', 'cherry'}`\n",
    "\n"
   ]
  },
  {
   "cell_type": "code",
   "execution_count": 3,
   "metadata": {},
   "outputs": [
    {
     "name": "stdout",
     "output_type": "stream",
     "text": [
      "The value apple is in the set {'banana', 'cherry', 'apple'}\n",
      "The value 5 is not in the set {'banana', 'cherry', 'apple'}\n"
     ]
    }
   ],
   "source": [
    "\n",
    "def in_set(s, v):\n",
    "    \"\"\"\n",
    "    Check if v is in set s.\n",
    "    \"\"\"\n",
    "    return v in s\n",
    "\n",
    "\n",
    "\n",
    "def main():\n",
    "\n",
    "    test_set = {\"banana\", \"apple\", \"cherry\"}\n",
    "\n",
    "    test_values = [\"apple\", \"5\"]\n",
    "\n",
    "    for test_value in test_values:\n",
    "\n",
    "        check = in_set(test_set, test_value)\n",
    "\n",
    "        if check:\n",
    "            print(f\"The value {test_value} is in the set {test_set}\")\n",
    "        else:\n",
    "            print(f\"The value {test_value} is not in the set {test_set}\")\n",
    "\n",
    "main()\n"
   ]
  },
  {
   "cell_type": "markdown",
   "metadata": {},
   "source": [
    "**2. Dictionary Update Assignment**\n",
    "\n",
    "- Create an empty dictionary. Iterate over names and numbers, creating a dictionary that maps names to numbers. HINT: Look into to using thew zip function to iterate over names and numbers as a list of 2-tuples.\n",
    "\n",
    "- Prompt user for a name NOT in your dictionary (continue to prompt user until they enter a name not already in the dictionary). Once a new  name is provided, prompt for a phone number. Then add the key-value pair (the new name and number) to your dictionary.\n",
    "\n",
    "- Prompt user for a name IN your dictionary (continue to prompt user until they enter a name already in the dictionary). Once an existing name is provided, prompt for a new phone number, and update the dictionary entry for the existing name with the new number. HINT: This code should be almost identical to the code in part 2. \n",
    "\n",
    "-Print the updated dictionary."
   ]
  },
  {
   "cell_type": "code",
   "execution_count": 5,
   "metadata": {},
   "outputs": [
    {
     "name": "stdout",
     "output_type": "stream",
     "text": [
      "{'juan': '708-555-9878', 'michael': '630-555-0009', 'steve': '630-555-1112', 'jimmy': '515-555-9999', 'tony': '847-555-4443', 'merle': '123-456-7889', 'willie': '414-555-6767', 'earl': '708-773-8765'}\n"
     ]
    }
   ],
   "source": [
    "\n",
    "\n",
    "\n",
    "def main():\n",
    "    \"\"\"\n",
    "    Create a phone book for the names and numbers in the given lists.\n",
    "    The follow the instructions in the comments. \n",
    "    \"\"\"\n",
    "\n",
    "    names = [\"juan\", \"michael\", \"steve\", \"jimmy\", \"tony\", \"merle\", \"willie\"]\n",
    "\n",
    "    numbers = [\"708-555-9878\", \"630-555-0009\", \"630-555-1112\", \"515-555-9999\", \n",
    "               \"847-555-4443\", \"312-555-9823\", \"414-555-6767\"]\n",
    "    \n",
    "    # --------------------------------------------------------------------------\n",
    "    # TODO: Create an empty dictionary. Iterate over names and numbers, \n",
    "    # creating a dictionary that maps names to numbers. \n",
    "    # Hint: Look into to using the zip function to iterate over names \n",
    "    # and numbers as a list of 2-tuples.\n",
    "    #---------------------------------------------------------------------------\n",
    "    dfb = dict(zip(names, numbers))\n",
    "\n",
    "\n",
    "    #---------------------------------------------------------------------------\n",
    "    # TODO: Prompt user for a name NOT in your dictionary (continue to prompt \n",
    "    # user until they enter a name not already in the dictionary). Once a new \n",
    "    # name is provided, prompt for a phone number. Then add the key-value pair \n",
    "    # to your dictionary.\n",
    "    #---------------------------------------------------------------------------\n",
    "\n",
    "    while True:\n",
    "        name = input(\"\\nPlease enter new name to add to phone book: \")\n",
    "        if name not in dfb:\n",
    "            number = input(f\"Please enter number for {name}: \")\n",
    "            dfb[name] = number\n",
    "            break\n",
    "        else:\n",
    "            print(f\"{name} already exists in phone book.\")\n",
    "\n",
    "    #---------------------------------------------------------------------------\n",
    "    # TODO: Prompt user for a name in your dictionary (continue to prompt \n",
    "    # user until they enter a name already in the dictionary). Once an existing\n",
    "    # name is provided, prompt for a new phone number, and update the dict\n",
    "    # with the new number. \n",
    "    #---------------------------------------------------------------------------\n",
    "    while True:\n",
    "        name = input(\"\\nPlease enter existing name to update in phone book: \")\n",
    "        if name in dfb:\n",
    "            number = input(f\"Please enter new number for {name}: \")\n",
    "            dfb[name] = number\n",
    "            break\n",
    "        else:\n",
    "            print(f\"{name} doesn't exist in phone book.\")\n",
    "\n",
    "    #---------------------------------------------------------------------------\n",
    "    # TODO: Print dictionary with new name/number and updated number. \n",
    "    # --------------------------------------------------------------------------\n",
    "    print(dfb)\n",
    "\n",
    "main()"
   ]
  },
  {
   "cell_type": "markdown",
   "metadata": {},
   "source": [
    "**3. Selection using Dictionary Assignment**\n",
    "\n",
    "In Python, you can write your own case statement using a function and a dictionary.\n",
    "\n",
    "In this assignment you will implement a switch/case with a dictionary. You will assign points for attaining a level in a video game. Levels are named N (for novice), B (for beginner), E (for experienced) and A (for advanced). For novice, 50 points is assigned to get the player started. For attaining beginner, 150 points are received. Experienced players receive 300 points while Advanced players 500. \n",
    "\n",
    "- Create a file *assign_level.py*. \n",
    "    - Implement a fruitful function `switch_level` that returns points for a given level (should take level as an argument).\n",
    "        - Within  `switch_level`, define the dictionary that maps levels to points. \n",
    "        - Include the cases outlined above.\n",
    "- Write `main()`\n",
    "    - call switch_level for each of the levels and print the results.\n",
    "\n",
    "Submit your `assign_level.py`. This is worth 10 points.\n",
    "\n"
   ]
  },
  {
   "cell_type": "code",
   "execution_count": 3,
   "metadata": {},
   "outputs": [
    {
     "name": "stdout",
     "output_type": "stream",
     "text": [
      "Level N: 50\n",
      "Level B: 150\n",
      "Level E: 300\n",
      "Level A: 500\n"
     ]
    }
   ],
   "source": [
    "\n",
    "def switch_level(level):\n",
    "    \"\"\"\n",
    "    Return the points associated with level.\n",
    "\n",
    "    Parameters\n",
    "    ----------\n",
    "    level: str {\"N\", \"B\", \"E\", \"A\"}\n",
    "        Level as string.\n",
    "\n",
    "    Returns\n",
    "    -------\n",
    "    int\n",
    "        Score associated with level.\n",
    "    \"\"\"\n",
    "    dlevels = {'N': 50, 'B': 150, 'E': 300, 'A': 500}\n",
    "    return dlevels.get(level, -1)\n",
    "\n",
    "def main():\n",
    "    levels = ['N', 'B', 'E', 'A']\n",
    "    for level in levels:\n",
    "        points = switch_level(level)\n",
    "        print(f\"Level {level}: {points}\")\n",
    "\n",
    "\n",
    "main()\n"
   ]
  }
 ],
 "metadata": {
  "kernelspec": {
   "display_name": "Python 3",
   "language": "python",
   "name": "python3"
  },
  "language_info": {
   "codemirror_mode": {
    "name": "ipython",
    "version": 3
   },
   "file_extension": ".py",
   "mimetype": "text/x-python",
   "name": "python",
   "nbconvert_exporter": "python",
   "pygments_lexer": "ipython3",
   "version": "3.12.0"
  }
 },
 "nbformat": 4,
 "nbformat_minor": 2
}
