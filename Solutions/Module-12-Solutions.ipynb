{
 "cells": [
  {
   "cell_type": "markdown",
   "metadata": {},
   "source": [
    "### Module \\#12 Assignment Solutions"
   ]
  },
  {
   "cell_type": "markdown",
   "metadata": {},
   "source": [
    "**1. Complete CSV Import to Class Object assignment**"
   ]
  },
  {
   "cell_type": "code",
   "execution_count": 1,
   "metadata": {},
   "outputs": [
    {
     "name": "stdout",
     "output_type": "stream",
     "text": [
      "Total population: 3,046,355\n"
     ]
    }
   ],
   "source": [
    "\n",
    "\"\"\"\n",
    "CIS189 Module 12 CSV Import to Class Object Assignment script.\n",
    "\n",
    "Remove all instances of pass before running/submitting your code.\n",
    "Submitted files with pass included will receive 0 points.\n",
    "\"\"\"\n",
    "import csv\n",
    "\n",
    "\n",
    "class County:\n",
    "\n",
    "    def __init__(self, rank, county, per_capita_income, median_household_income, \n",
    "                 median_family_income, population, number_of_households):\n",
    "        self.rank = rank\n",
    "        self.county = county\n",
    "        self.per_capita_income = per_capita_income \n",
    "        self.median_household_income = median_household_income\n",
    "        self.median_family_income = median_family_income\n",
    "        self.population = float(population.replace(\",\", \"\").strip())\n",
    "        self.number_of_households = number_of_households\n",
    "        \n",
    " \n",
    "    def get_population(self):\n",
    "        \"\"\"\n",
    "        Return the population as a float.\n",
    "        \"\"\"\n",
    "        return self.population\n",
    "\n",
    "\n",
    "\n",
    "def main():\n",
    "    # Use the DictReader object to read in the CSV file. Each row will be represented\n",
    "    # as a dictionary, with the column name as the key and the associated value \n",
    "    # the value. \n",
    "    # Create a County object for each county. \n",
    "    # Finally, print the total population for all counties in Iowa by by calling\n",
    "    # get_population for each, and maintaining a running total. \n",
    "    dcounties = {}\n",
    "\n",
    "    csv_path = \"T:/Repos/CIS189/Misc/Data/Iowa 2010 Census Data Population Income.csv\"\n",
    "\n",
    "    with open(csv_path, newline='') as fcsv:\n",
    "        reader = csv.DictReader(fcsv)\n",
    "        for d in reader:\n",
    "            curr_county = d[\"county\"]\n",
    "            if curr_county not in (\"United States\", \"Iowa State\"):\n",
    "                dcounties[curr_county] = County(**d)\n",
    "\n",
    "    # Iterate over dcounty, and compute total population over all counties.\n",
    "    tot_pop = 0\n",
    "    for kk in dcounties:\n",
    "        tot_pop+=dcounties[kk].get_population()\n",
    "\n",
    "\n",
    "    # Or using a list comprehension.\n",
    "    tot_pop = sum(dcounties[kk].get_population() for kk in dcounties)\n",
    "\n",
    "    print(f\"Total population: {tot_pop:,.0f}\")\n",
    "\n",
    "\n",
    "main()\n"
   ]
  },
  {
   "cell_type": "markdown",
   "metadata": {},
   "source": []
  },
  {
   "cell_type": "code",
   "execution_count": 10,
   "metadata": {},
   "outputs": [
    {
     "name": "stdout",
     "output_type": "stream",
     "text": [
      "Human powered, not enclosed\n",
      "1 or 2 if tandem or a daredevil\n",
      "Engine powered, not enclosed\n",
      "1 or 2\n",
      "Engine powered, enclosed\n",
      "1 plus comfortably\n"
     ]
    }
   ],
   "source": [
    "\n",
    "from abc import ABC, abstractmethod\n",
    "\n",
    "\n",
    "class Rider(ABC):\n",
    "\n",
    "    @abstractmethod\n",
    "    def ride(self):\n",
    "        pass\n",
    "    \n",
    "    @abstractmethod\n",
    "    def riders(self):\n",
    "        pass\n",
    "\n",
    "\n",
    "class Bicycle(Rider):\n",
    "    def ride(self):\n",
    "        return 'Human powered, not enclosed'\n",
    "\n",
    "    def riders(self):\n",
    "        return '1 or 2 if tandem or a daredevil'\n",
    "\n",
    "class Motorcycle(Rider):\n",
    "    def ride(self):\n",
    "        return 'Engine powered, not enclosed'\n",
    "\n",
    "    def riders(self):\n",
    "        return '1 or 2'\n",
    "\n",
    "class Car(Rider):\n",
    "    def ride(self):\n",
    "        return 'Engine powered, enclosed'\n",
    "\n",
    "    def riders(self):\n",
    "        return '1 plus comfortably'\n",
    "\n",
    "\n",
    "# Driver code\n",
    "b = Bicycle()\n",
    "m = Motorcycle()\n",
    "c = Car()\n",
    "print(b.ride())\n",
    "print(b.riders())\n",
    "print(m.ride())\n",
    "print(m.riders())\n",
    "print(c.ride())\n",
    "print(c.riders())\n"
   ]
  }
 ],
 "metadata": {
  "kernelspec": {
   "display_name": "Python 3",
   "language": "python",
   "name": "python3"
  },
  "language_info": {
   "codemirror_mode": {
    "name": "ipython",
    "version": 3
   },
   "file_extension": ".py",
   "mimetype": "text/x-python",
   "name": "python",
   "nbconvert_exporter": "python",
   "pygments_lexer": "ipython3",
   "version": "3.12.0"
  }
 },
 "nbformat": 4,
 "nbformat_minor": 2
}
